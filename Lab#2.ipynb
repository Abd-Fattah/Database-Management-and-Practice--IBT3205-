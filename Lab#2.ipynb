{
  "nbformat": 4,
  "nbformat_minor": 0,
  "metadata": {
    "colab": {
      "provenance": [],
      "authorship_tag": "ABX9TyMSpNPQEschPbyIFfJBdWDM",
      "include_colab_link": true
    },
    "kernelspec": {
      "name": "python3",
      "display_name": "Python 3"
    },
    "language_info": {
      "name": "python"
    }
  },
  "cells": [
    {
      "cell_type": "markdown",
      "metadata": {
        "id": "view-in-github",
        "colab_type": "text"
      },
      "source": [
        "<a href=\"https://colab.research.google.com/github/Abd-Fattah/Database-Management-and-Practice--IBT3205-/blob/main/Lab%232.ipynb\" target=\"_parent\"><img src=\"https://colab.research.google.com/assets/colab-badge.svg\" alt=\"Open In Colab\"/></a>"
      ]
    },
    {
      "cell_type": "code",
      "execution_count": 9,
      "metadata": {
        "id": "ZbFJaDvhMEuT"
      },
      "outputs": [],
      "source": [
        "import pandas as pd\n",
        "import numpy as np\n",
        "import matplotlib as plt\n",
        "import seaborn as sns\n",
        "import sklearn as skl\n",
        "import sqlite3"
      ]
    },
    {
      "cell_type": "code",
      "source": [
        "conn = sqlite3.connect('database.sqlite')"
      ],
      "metadata": {
        "id": "bzGBeLRoMPRI"
      },
      "execution_count": 10,
      "outputs": []
    },
    {
      "cell_type": "code",
      "source": [
        "conn.execute('''\n",
        "CREATE TABLE IF NOT EXISTS Company\n",
        "(ID INT PRIMARY KEY NOT NULL,\n",
        "NAME TEXT NOT NULL,\n",
        "AGE INT NOT NULL,\n",
        "ADDRESS CHAR(50),\n",
        "SALARY REAL);\n",
        "''')"
      ],
      "metadata": {
        "id": "NDb6mcVEQCsO"
      },
      "execution_count": null,
      "outputs": []
    },
    {
      "cell_type": "code",
      "source": [
        "conn.execute(\"INSERT INTO Company (ID, NAME, AGE, ADDRESS, SALARY) VALUES (1, 'Paul', 32, 'California', 20000.00)\");\n",
        "conn.execute(\"INSERT INTO Company (ID, NAME, AGE, ADDRESS, SALARY) VALUES (2, 'Allen', 25, 'Texas', 15000.00)\");\n",
        "conn.execute(\"INSERT INTO Company (ID, NAME, AGE, ADDRESS, SALARY) VALUES (3, 'Teddy', 23, 'Norway', 20000.00)\");\n",
        "conn.execute(\"INSERT INTO Company (ID, NAME, AGE, ADDRESS, SALARY) VALUES (4, 'Mark', 25, 'Rich-Mond', 65000.00)\");"
      ],
      "metadata": {
        "id": "6q4rQhcIQgio"
      },
      "execution_count": 15,
      "outputs": []
    },
    {
      "cell_type": "code",
      "source": [
        "conn.commit()"
      ],
      "metadata": {
        "id": "D0UieAuHQ4hd"
      },
      "execution_count": 16,
      "outputs": []
    },
    {
      "cell_type": "code",
      "source": [
        "cursor = conn.execute(\"SELECT ID, NAME, AGE, ADDRESS, SALARY FROM Company\")\n",
        "\n",
        "for row in cursor:\n",
        "  print(\"ID = \", row[0])\n",
        "  print(\"NAME = \", row[1])\n",
        "  print(\"AGE = \", row[2])\n",
        "  print(\"ADDRESS = \", row[3])\n",
        "  print(\"SALARY = \", row[4], \"\\n\")\n",
        "\n",
        "conn.close()"
      ],
      "metadata": {
        "id": "A1KlgGiWQ6dr"
      },
      "execution_count": null,
      "outputs": []
    },
    {
      "cell_type": "code",
      "source": [
        "conn = sqlite3.connect('database.sqlite')\n",
        "\n",
        "cursor = conn.execute(\"SELECT name FROM sqlite_master WHERE type='table';\")\n",
        "\n",
        "tables = [table[0] for table in cursor.fetchall()]\n",
        "\n",
        "print(tables)"
      ],
      "metadata": {
        "id": "Of6S7qe-RkI2"
      },
      "execution_count": null,
      "outputs": []
    },
    {
      "cell_type": "code",
      "source": [
        "cursor = conn.execute(\"SELECT ID, NAME, AGE, ADDRESS, SALARY FROM Company\")\n",
        "\n",
        "for row in cursor:\n",
        "  print(\"ID = \", row[0])\n",
        "  print(\"NAME = \", row[1])\n",
        "  print(\"AGE = \", row[2])\n",
        "  print(\"ADDRESS = \", row[3])\n",
        "  print(\"SALARY = \", row[4], \"\\n\")"
      ],
      "metadata": {
        "collapsed": true,
        "id": "1OtVBmtDTkTp"
      },
      "execution_count": null,
      "outputs": []
    },
    {
      "cell_type": "code",
      "source": [
        "# Function to connect to database and create table\n",
        "def create_database_and_table():\n",
        "    conn = sqlite3.connect('company_database_ver2.db')\n",
        "    conn.execute('''\n",
        "    CREATE TABLE IF NOT EXISTS Company\n",
        "    (ID INT PRIMARY KEY NOT NULL,\n",
        "    NAME TEXT NOT NULL,\n",
        "    AGE INT NOT NULL,\n",
        "    ADDRESS CHAR(50),\n",
        "    SALARY REAL);''')\n",
        "    conn.close()\n",
        "\n",
        "# Function to insert initial and additional rows\n",
        "def insert_rows():\n",
        "    conn = sqlite3.connect('company_database_ver2.db')\n",
        "    for i in range(1, 25):\n",
        "        conn.execute(f\"INSERT INTO Company (ID, NAME, AGE, ADDRESS, SALARY) VALUES ({i}, 'Person{i}', {20 + i}, 'Location{i}', {10000 + i*100});\")\n",
        "    conn.commit()\n",
        "    conn.close()\n",
        "\n",
        "# Function to list tables\n",
        "def list_tables():\n",
        "    conn = sqlite3.connect('company_database_ver2.db')\n",
        "    cursor = conn.execute(\"SELECT name FROM sqlite_master WHERE type='table';\")\n",
        "    tables = [table[0] for table in cursor.fetchall()]\n",
        "    print(\"List of tables in the database:\", tables)\n",
        "    conn.close()\n",
        "\n",
        "# Function to show all rows from Company Table\n",
        "def list_rows():\n",
        "    conn = sqlite3.connect('company_database_ver2.db')\n",
        "    cursor = conn.execute(\"SELECT ID, NAME, AGE, ADDRESS, SALARY from Company\")\n",
        "    print(\"Show all rows from Company Table:\")\n",
        "    for row in cursor:\n",
        "      print(\"ID = \", row[0])\n",
        "      print(\"NAME = \", row[1])\n",
        "      print(\"AGE = \", row[2])\n",
        "      print(\"ADDRESS = \", row[3])\n",
        "      print(\"SALARY = \", row[4], \"\\n\")\n",
        "\n",
        "\n",
        "# Create database and table\n",
        "create_database_and_table()\n",
        "\n",
        "# Insert initial and additional rows\n",
        "insert_rows()\n",
        "\n",
        "# List tables in the database\n",
        "list_tables()\n",
        "\n",
        "#show all rows from Company Table\n",
        "list_rows()"
      ],
      "metadata": {
        "id": "2xhSFPHwTycP"
      },
      "execution_count": null,
      "outputs": []
    },
    {
      "cell_type": "code",
      "source": [
        "conn.close()"
      ],
      "metadata": {
        "id": "cXGFxU4YUUdj"
      },
      "execution_count": 32,
      "outputs": []
    }
  ]
}