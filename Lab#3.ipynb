{
  "nbformat": 4,
  "nbformat_minor": 0,
  "metadata": {
    "colab": {
      "provenance": [],
      "authorship_tag": "ABX9TyNbS72XLaHl9n2WHULEggo5",
      "include_colab_link": true
    },
    "kernelspec": {
      "name": "python3",
      "display_name": "Python 3"
    },
    "language_info": {
      "name": "python"
    }
  },
  "cells": [
    {
      "cell_type": "markdown",
      "metadata": {
        "id": "view-in-github",
        "colab_type": "text"
      },
      "source": [
        "<a href=\"https://colab.research.google.com/github/Abd-Fattah/Database-Management-and-Practice--IBT3205-/blob/main/Lab%233.ipynb\" target=\"_parent\"><img src=\"https://colab.research.google.com/assets/colab-badge.svg\" alt=\"Open In Colab\"/></a>"
      ]
    },
    {
      "cell_type": "code",
      "execution_count": 115,
      "metadata": {
        "id": "vCmbXkHxRs-9"
      },
      "outputs": [],
      "source": [
        "import pandas as pd\n",
        "import numpy as np\n",
        "import matplotlib as plt\n",
        "import seaborn as sns\n",
        "import sklearn as skl\n",
        "import sqlite3\n",
        "\n",
        "from faker import Faker\n",
        "fake = Faker()"
      ]
    },
    {
      "cell_type": "code",
      "source": [
        "conn = sqlite3.connect('Education_Company_Database.sqlite')"
      ],
      "metadata": {
        "id": "0RwE8wXrf32i"
      },
      "execution_count": 122,
      "outputs": []
    },
    {
      "cell_type": "markdown",
      "source": [
        "## First table Companies"
      ],
      "metadata": {
        "id": "Zt8dLbvDdUZf"
      }
    },
    {
      "cell_type": "code",
      "source": [
        "conn.execute(\"DROP TABLE Companies\")\n",
        "\n",
        "conn.commit"
      ],
      "metadata": {
        "colab": {
          "base_uri": "https://localhost:8080/",
          "height": 188
        },
        "id": "2GRA_QJhfXux",
        "outputId": "cf16fdb8-52a2-4d57-a655-47c12fd70ee6"
      },
      "execution_count": 121,
      "outputs": [
        {
          "output_type": "error",
          "ename": "OperationalError",
          "evalue": "database is locked",
          "traceback": [
            "\u001b[0;31m---------------------------------------------------------------------------\u001b[0m",
            "\u001b[0;31mOperationalError\u001b[0m                          Traceback (most recent call last)",
            "\u001b[0;32m<ipython-input-121-21cad934b184>\u001b[0m in \u001b[0;36m<cell line: 1>\u001b[0;34m()\u001b[0m\n\u001b[0;32m----> 1\u001b[0;31m \u001b[0mconn\u001b[0m\u001b[0;34m.\u001b[0m\u001b[0mexecute\u001b[0m\u001b[0;34m(\u001b[0m\u001b[0;34m\"DROP TABLE Companies\"\u001b[0m\u001b[0;34m)\u001b[0m\u001b[0;34m\u001b[0m\u001b[0;34m\u001b[0m\u001b[0m\n\u001b[0m\u001b[1;32m      2\u001b[0m \u001b[0;34m\u001b[0m\u001b[0m\n\u001b[1;32m      3\u001b[0m \u001b[0mconn\u001b[0m\u001b[0;34m.\u001b[0m\u001b[0mcommit\u001b[0m\u001b[0;34m\u001b[0m\u001b[0;34m\u001b[0m\u001b[0m\n",
            "\u001b[0;31mOperationalError\u001b[0m: database is locked"
          ]
        }
      ]
    },
    {
      "cell_type": "code",
      "source": [
        "conn.execute('''\n",
        "CREATE TABLE IF NOT EXISTS Companies\n",
        "(ID INT PRIMARY KEY,\n",
        " NAME TEXT NOT NULL,\n",
        " HEADQUARTERS TEXT\n",
        ");\n",
        "''')\n",
        "\n",
        "conn.commit"
      ],
      "metadata": {
        "colab": {
          "base_uri": "https://localhost:8080/"
        },
        "id": "jKhwUiNwSko8",
        "outputId": "2e6edde7-c434-4aa1-efca-72d8c746dd5d"
      },
      "execution_count": 123,
      "outputs": [
        {
          "output_type": "execute_result",
          "data": {
            "text/plain": [
              "<function Connection.commit()>"
            ]
          },
          "metadata": {},
          "execution_count": 123
        }
      ]
    },
    {
      "cell_type": "code",
      "source": [
        "tables_list = [\"Companies\", \"Branches\", \"Courses\", \"Students\", \"Enrollment\", \"Logging\", \"Teacher\", \"Department\"]"
      ],
      "metadata": {
        "id": "PMQeMWrNUDh0"
      },
      "execution_count": 124,
      "outputs": []
    },
    {
      "cell_type": "code",
      "source": [
        "for i in range(5):\n",
        "  name = fake.company()\n",
        "  headquarters = fake.city()\n",
        "  conn.execute(f\"INSERT INTO Companies (ID, NAME, HEADQUARTERS) VALUES ({i+1}, '{name}', '{headquarters}')\")\n",
        "conn.commit()"
      ],
      "metadata": {
        "id": "j9CqdInxT_cO"
      },
      "execution_count": 125,
      "outputs": []
    },
    {
      "cell_type": "code",
      "source": [
        "cursor = conn.execute(\"SELECT ID, NAME, HEADQUARTERS FROM Companies\")\n",
        "\n",
        "for row in cursor:\n",
        "  print(\"ID = \", row[0])\n",
        "  print(\"NAME = \", row[1])\n",
        "  print(\"HEADQUARTERS\", row[2])"
      ],
      "metadata": {
        "colab": {
          "base_uri": "https://localhost:8080/"
        },
        "id": "oW-EjEXFTffc",
        "outputId": "33897a51-6a95-415d-ab94-f449f2debca7"
      },
      "execution_count": 126,
      "outputs": [
        {
          "output_type": "stream",
          "name": "stdout",
          "text": [
            "ID =  1\n",
            "NAME =  Jones-Lowe\n",
            "HEADQUARTERS Chaseside\n",
            "ID =  2\n",
            "NAME =  Boyd, Williams and Rodriguez\n",
            "HEADQUARTERS East Kimland\n",
            "ID =  3\n",
            "NAME =  Tran, Watson and Martinez\n",
            "HEADQUARTERS North Taratown\n",
            "ID =  4\n",
            "NAME =  Wilkins-Olson\n",
            "HEADQUARTERS Hansonfort\n",
            "ID =  5\n",
            "NAME =  Lewis-Crosby\n",
            "HEADQUARTERS South Victoriafurt\n"
          ]
        }
      ]
    },
    {
      "cell_type": "markdown",
      "source": [
        "## Second table Branches"
      ],
      "metadata": {
        "id": "TpE2r8_WdcYJ"
      }
    },
    {
      "cell_type": "code",
      "source": [
        "conn.execute(\"DROP TABLE Branches\")"
      ],
      "metadata": {
        "id": "H2dth078fVN2"
      },
      "execution_count": null,
      "outputs": []
    },
    {
      "cell_type": "code",
      "source": [
        "conn.execute('''\n",
        "CREATE TABLE IF NOT EXISTS Branches\n",
        "(ID INT PRIMARY KEY,\n",
        " COMPANY_ID INT REFERENCES Companies(id),\n",
        " LOCATION TEXT\n",
        ");\n",
        "''')\n",
        "\n",
        "conn.commit"
      ],
      "metadata": {
        "colab": {
          "base_uri": "https://localhost:8080/"
        },
        "id": "d-rY6m2kWX9k",
        "outputId": "7b8b9cd2-f1fd-4459-c58a-28115c11389a"
      },
      "execution_count": 127,
      "outputs": [
        {
          "output_type": "execute_result",
          "data": {
            "text/plain": [
              "<function Connection.commit()>"
            ]
          },
          "metadata": {},
          "execution_count": 127
        }
      ]
    },
    {
      "cell_type": "code",
      "source": [
        "for value in range(5):\n",
        "    location = fake.address()\n",
        "    conn.execute(f\"INSERT INTO {tables_list[1]} (ID, LOCATION) VALUES ({value+1}, '{location}');\")\n",
        "conn.commit()"
      ],
      "metadata": {
        "id": "-ESJMFzVY7fX"
      },
      "execution_count": 128,
      "outputs": []
    },
    {
      "cell_type": "code",
      "source": [
        "cursor = conn.execute(\"SELECT ID, COMPANY_ID, LOCATION FROM Branches\")\n",
        "\n",
        "for row in cursor:\n",
        "  print(\"ID = \", row[0])\n",
        "  print(\"COMPANY_ID = \", row[1])\n",
        "  print(\"LOCATION = \", row[2])"
      ],
      "metadata": {
        "colab": {
          "base_uri": "https://localhost:8080/"
        },
        "id": "9EoQMnZCZUjf",
        "outputId": "4640c56e-92ef-4aa4-dfd5-74fac123b5e8"
      },
      "execution_count": 129,
      "outputs": [
        {
          "output_type": "stream",
          "name": "stdout",
          "text": [
            "ID =  1\n",
            "COMPANY_ID =  None\n",
            "LOCATION =  25509 Natalie Junctions Suite 742\n",
            "South Ann, NV 99380\n",
            "ID =  2\n",
            "COMPANY_ID =  None\n",
            "LOCATION =  80876 John Via\n",
            "South Leslieland, MT 35569\n",
            "ID =  3\n",
            "COMPANY_ID =  None\n",
            "LOCATION =  482 Mann Trail\n",
            "Colonmouth, AK 28944\n",
            "ID =  4\n",
            "COMPANY_ID =  None\n",
            "LOCATION =  624 Shaw Pines\n",
            "Port Sherylville, NH 86526\n",
            "ID =  5\n",
            "COMPANY_ID =  None\n",
            "LOCATION =  94469 Johnny Ramp Apt. 329\n",
            "Emilyborough, NJ 26878\n"
          ]
        }
      ]
    },
    {
      "cell_type": "markdown",
      "source": [
        "## Third table Courses"
      ],
      "metadata": {
        "id": "EwBjM6STdgSp"
      }
    },
    {
      "cell_type": "code",
      "source": [
        "conn.execute(\"DROP TABLE COURSES\")"
      ],
      "metadata": {
        "colab": {
          "base_uri": "https://localhost:8080/"
        },
        "id": "LRI-lAdrfLbA",
        "outputId": "25a44ee1-714d-489d-8169-d902e40c61a7"
      },
      "execution_count": 102,
      "outputs": [
        {
          "output_type": "execute_result",
          "data": {
            "text/plain": [
              "<sqlite3.Cursor at 0x79dd340874c0>"
            ]
          },
          "metadata": {},
          "execution_count": 102
        }
      ]
    },
    {
      "cell_type": "code",
      "source": [
        "conn.execute('''\n",
        "CREATE TABLE IF NOT EXISTS Courses\n",
        "(ID INT PRIMARY KEY,\n",
        " BRANCH_ID INT REFERENCES Branches(id),\n",
        " NAME TEXT,\n",
        " DURATION INT\n",
        ");\n",
        "''')\n",
        "conn.commit"
      ],
      "metadata": {
        "colab": {
          "base_uri": "https://localhost:8080/"
        },
        "id": "dmO26bnAbjDE",
        "outputId": "d8a9b1a8-5c3f-41e9-d42e-e6c91571c72d"
      },
      "execution_count": 131,
      "outputs": [
        {
          "output_type": "execute_result",
          "data": {
            "text/plain": [
              "<function Connection.commit()>"
            ]
          },
          "metadata": {},
          "execution_count": 131
        }
      ]
    },
    {
      "cell_type": "code",
      "source": [
        "course_duration = []\n",
        "\n",
        "for _ in range(5):\n",
        "  course_duration.append(fake.random_int(min=16, max=128))\n",
        "\n",
        "\n",
        "conn.execute(f\"INSERT INTO {tables_list[2]} (ID, NAME, DURATION) VALUES (1, 'Introduction to Python', {course_duration[0]});\")\n",
        "conn.execute(f\"INSERT INTO {tables_list[2]} (ID, NAME, DURATION) VALUES (2, 'Data Science Fundamentals', {course_duration[1]});\")\n",
        "conn.execute(f\"INSERT INTO {tables_list[2]} (ID, NAME, DURATION) VALUES (3, 'Machine Learning for Beginners', {course_duration[2]});\")\n",
        "conn.execute(f\"INSERT INTO {tables_list[2]} (ID, NAME, DURATION) VALUES (4, 'Web Development with JavaScript', {course_duration[3]});\")\n",
        "conn.execute(f\"INSERT INTO {tables_list[2]} (ID, NAME, DURATION) VALUES (5, 'Deep Learning with TensorFlow', {course_duration[4]});\")\n",
        "conn.commit"
      ],
      "metadata": {
        "colab": {
          "base_uri": "https://localhost:8080/"
        },
        "id": "wxgev3L0dA_B",
        "outputId": "eb2f5ed8-414d-47b5-be3f-db2e9012decf"
      },
      "execution_count": 132,
      "outputs": [
        {
          "output_type": "execute_result",
          "data": {
            "text/plain": [
              "<function Connection.commit()>"
            ]
          },
          "metadata": {},
          "execution_count": 132
        }
      ]
    },
    {
      "cell_type": "code",
      "source": [
        "cursor = conn.execute(\"SELECT ID, BRANCH_ID, NAME, DURATION FROM COURSES\")\n",
        "\n",
        "for row in cursor:\n",
        "  print(\"ID = \", row[0])\n",
        "  print(\"BRANCH_ID = \", row[1])\n",
        "  print(\"NAME = \", row[2])\n",
        "  print(\"DURATION = \", row[3])"
      ],
      "metadata": {
        "colab": {
          "base_uri": "https://localhost:8080/"
        },
        "id": "d-7eqji6dB07",
        "outputId": "b37cf56f-e443-47a8-a6a5-3f235890ded9"
      },
      "execution_count": 133,
      "outputs": [
        {
          "output_type": "stream",
          "name": "stdout",
          "text": [
            "ID =  1\n",
            "BRANCH_ID =  None\n",
            "NAME =  Introduction to Python\n",
            "DURATION =  57\n",
            "ID =  2\n",
            "BRANCH_ID =  None\n",
            "NAME =  Data Science Fundamentals\n",
            "DURATION =  92\n",
            "ID =  3\n",
            "BRANCH_ID =  None\n",
            "NAME =  Machine Learning for Beginners\n",
            "DURATION =  50\n",
            "ID =  4\n",
            "BRANCH_ID =  None\n",
            "NAME =  Web Development with JavaScript\n",
            "DURATION =  73\n",
            "ID =  5\n",
            "BRANCH_ID =  None\n",
            "NAME =  Deep Learning with TensorFlow\n",
            "DURATION =  44\n"
          ]
        }
      ]
    },
    {
      "cell_type": "markdown",
      "source": [
        "## Fourth table Students\n"
      ],
      "metadata": {
        "id": "mzDPlY5Kdl28"
      }
    },
    {
      "cell_type": "code",
      "source": [
        "conn.execute('''\n",
        "CREATE TABLE IF NOT EXISTS Students\n",
        "(ID INT PRIMARY KEY,\n",
        " COURSE_ID INT REFERENCES Courses(id),\n",
        " NAME TEXT,\n",
        " AGE INT\n",
        ");\n",
        "''')\n",
        "conn.commit"
      ],
      "metadata": {
        "colab": {
          "base_uri": "https://localhost:8080/"
        },
        "id": "7pGRSHh4dp0U",
        "outputId": "190c008e-4361-4c1b-8660-81c6c11b0647"
      },
      "execution_count": 134,
      "outputs": [
        {
          "output_type": "execute_result",
          "data": {
            "text/plain": [
              "<function Connection.commit()>"
            ]
          },
          "metadata": {},
          "execution_count": 134
        }
      ]
    },
    {
      "cell_type": "code",
      "source": [
        "for _ in range(5):\n",
        "  student_id = fake.random_int(min=1, max=10000)\n",
        "  course_id = fake.random_int(min=1, max=5)\n",
        "  student_name = fake.name()\n",
        "  student_age = fake.random_int(min=18, max=30)\n",
        "  conn.execute(f\"INSERT INTO Students (ID, COURSE_ID, NAME, AGE) VALUES ({student_id}, {course_id}, '{student_name}', {student_age});\")\n",
        "\n",
        "conn.commit()"
      ],
      "metadata": {
        "id": "mdQyagAfdyX7"
      },
      "execution_count": 136,
      "outputs": []
    },
    {
      "cell_type": "code",
      "source": [
        "cursor = conn.execute(\"SELECT ID, COURSE_ID, NAME, AGE FROM STUDENTS\")\n",
        "\n",
        "for row in cursor:\n",
        "  print(\"ID = \", row[0])\n",
        "  print(\"COURSE_ID = \", row[1])\n",
        "  print(\"NAME= \", row[2])\n",
        "  print(\"AGE= \", row[3])"
      ],
      "metadata": {
        "colab": {
          "base_uri": "https://localhost:8080/"
        },
        "id": "7nMwHv6XeIoc",
        "outputId": "14dbf395-2c75-4768-c59c-f2978b1f3fb5"
      },
      "execution_count": 137,
      "outputs": [
        {
          "output_type": "stream",
          "name": "stdout",
          "text": [
            "ID =  89\n",
            "COURSE_ID =  5\n",
            "NAME=  Lisa Cook\n",
            "AGE=  25\n",
            "ID =  13\n",
            "COURSE_ID =  3\n",
            "NAME=  Angel Curry\n",
            "AGE=  26\n",
            "ID =  1710\n",
            "COURSE_ID =  4\n",
            "NAME=  Thomas Burch\n",
            "AGE=  18\n",
            "ID =  5956\n",
            "COURSE_ID =  3\n",
            "NAME=  John Gray\n",
            "AGE=  21\n",
            "ID =  983\n",
            "COURSE_ID =  4\n",
            "NAME=  Tina Martin\n",
            "AGE=  25\n",
            "ID =  5196\n",
            "COURSE_ID =  1\n",
            "NAME=  Molly Jackson MD\n",
            "AGE=  28\n",
            "ID =  7236\n",
            "COURSE_ID =  4\n",
            "NAME=  Nicole Arias\n",
            "AGE=  26\n"
          ]
        }
      ]
    },
    {
      "cell_type": "markdown",
      "source": [
        "## Fifth table Enrollment"
      ],
      "metadata": {
        "id": "_wzcVlY8go3M"
      }
    },
    {
      "cell_type": "code",
      "source": [
        "conn.execute('''\n",
        "CREATE TABLE IF NOT EXISTS Enrollment\n",
        "(ID INT PRIMARY KEY,\n",
        " STUDENT_ID INT REFERENCES STUDENTS(id),\n",
        " COURSE_ID INT REFERENCES COURSES(id),\n",
        " ENROLLMENT_DATE TEXT\n",
        ");\n",
        "''')\n",
        "conn.commit"
      ],
      "metadata": {
        "colab": {
          "base_uri": "https://localhost:8080/"
        },
        "id": "wTJCCFGeeLFJ",
        "outputId": "2535d7fd-a2eb-4172-b5a2-d1d7871494af"
      },
      "execution_count": 138,
      "outputs": [
        {
          "output_type": "execute_result",
          "data": {
            "text/plain": [
              "<function Connection.commit()>"
            ]
          },
          "metadata": {},
          "execution_count": 138
        }
      ]
    },
    {
      "cell_type": "code",
      "source": [
        "from datetime import datetime, timedelta\n",
        "\n",
        "for i in range(5):\n",
        "    student_id = fake.random_int(min=1, max=10000)\n",
        "    course_id = fake.random_int(min=1, max=5)\n",
        "    enrollment_date = fake.date_between(start_date='-1y', end_date='today')\n",
        "    conn.execute(f\"INSERT INTO Enrollment (ID, STUDENT_ID, COURSE_ID, ENROLLMENT_DATE) VALUES ({i+1}, {student_id}, {course_id}, '{enrollment_date}');\")\n",
        "\n",
        "conn.commit()"
      ],
      "metadata": {
        "id": "c6vT0a-QhMUz"
      },
      "execution_count": 139,
      "outputs": []
    },
    {
      "cell_type": "code",
      "source": [
        "cursor = conn.execute(\"SELECT ID, STUDENT_ID, COURSE_ID, ENROLLMENT_DATE FROM Enrollment\")\n",
        "\n",
        "for row in cursor:\n",
        "  print(\"ID = \", row[0])\n",
        "  print(\"STUDENT_ID = \", row[1])\n",
        "  print(\"COURSE_ID = \", row[2])\n",
        "  print(\"ENROLLMENT_DATE = \", row[3])"
      ],
      "metadata": {
        "colab": {
          "base_uri": "https://localhost:8080/"
        },
        "id": "7pfg7RgFhSlA",
        "outputId": "8f860a52-63f1-4d93-cb0b-f5b8571ca5f9"
      },
      "execution_count": 140,
      "outputs": [
        {
          "output_type": "stream",
          "name": "stdout",
          "text": [
            "ID =  1\n",
            "STUDENT_ID =  4265\n",
            "COURSE_ID =  3\n",
            "ENROLLMENT_DATE =  2024-06-27\n",
            "ID =  2\n",
            "STUDENT_ID =  2354\n",
            "COURSE_ID =  5\n",
            "ENROLLMENT_DATE =  2023-12-23\n",
            "ID =  3\n",
            "STUDENT_ID =  9330\n",
            "COURSE_ID =  1\n",
            "ENROLLMENT_DATE =  2024-04-06\n",
            "ID =  4\n",
            "STUDENT_ID =  214\n",
            "COURSE_ID =  2\n",
            "ENROLLMENT_DATE =  2023-11-24\n",
            "ID =  5\n",
            "STUDENT_ID =  5973\n",
            "COURSE_ID =  3\n",
            "ENROLLMENT_DATE =  2024-03-13\n"
          ]
        }
      ]
    },
    {
      "cell_type": "markdown",
      "source": [
        "## Sixth table Logging"
      ],
      "metadata": {
        "id": "wTu7KuF3hYAZ"
      }
    },
    {
      "cell_type": "code",
      "source": [
        "conn.execute('''\n",
        "CREATE TABLE IF NOT EXISTS Logging\n",
        "(ID INT PRIMARY KEY,\n",
        " ACTIVITY TEXT,\n",
        " TIMESTAMP TEXT\n",
        ");\n",
        "''')\n",
        "conn.commit"
      ],
      "metadata": {
        "colab": {
          "base_uri": "https://localhost:8080/"
        },
        "id": "Su-0LnaUhXI8",
        "outputId": "36fb2fd8-6600-4eaa-da8b-b5055a5bba70"
      },
      "execution_count": 141,
      "outputs": [
        {
          "output_type": "execute_result",
          "data": {
            "text/plain": [
              "<function Connection.commit()>"
            ]
          },
          "metadata": {},
          "execution_count": 141
        }
      ]
    },
    {
      "cell_type": "code",
      "source": [
        "for i in range(5):\n",
        "    activity = fake.sentence()\n",
        "    timestamp = fake.date_time_between(start_date=\"-1y\", end_date=\"now\")\n",
        "    conn.execute(f\"INSERT INTO Logging (ID, ACTIVITY, TIMESTAMP) VALUES ({i+1}, '{activity}', '{timestamp}');\")\n",
        "\n",
        "conn.commit()"
      ],
      "metadata": {
        "id": "X9JWqrdfhnKe"
      },
      "execution_count": 142,
      "outputs": []
    },
    {
      "cell_type": "code",
      "source": [
        "cursor = conn.execute(\"SELECT ID, ACTIVITY, TIMESTAMP FROM Logging\")\n",
        "\n",
        "for row in cursor:\n",
        "    print(\"ID =\", row[0])\n",
        "    print(\"ACTIVITY =\", row[1])\n",
        "    print(\"TIMESTAMP =\", row[2])"
      ],
      "metadata": {
        "colab": {
          "base_uri": "https://localhost:8080/"
        },
        "id": "UuY9LQcUhs7T",
        "outputId": "75b45891-c89c-4100-cac7-2fb16fa5438b"
      },
      "execution_count": 143,
      "outputs": [
        {
          "output_type": "stream",
          "name": "stdout",
          "text": [
            "ID = 1\n",
            "ACTIVITY = Little most dog politics yourself.\n",
            "TIMESTAMP = 2024-09-14 22:12:25\n",
            "ID = 2\n",
            "ACTIVITY = Find item public its.\n",
            "TIMESTAMP = 2023-12-07 16:39:35\n",
            "ID = 3\n",
            "ACTIVITY = Task view material he.\n",
            "TIMESTAMP = 2024-02-10 03:21:28\n",
            "ID = 4\n",
            "ACTIVITY = Campaign even customer Congress see.\n",
            "TIMESTAMP = 2024-10-01 02:24:58\n",
            "ID = 5\n",
            "ACTIVITY = Physical yet effect determine huge sense himself someone.\n",
            "TIMESTAMP = 2023-12-09 08:04:27\n"
          ]
        }
      ]
    },
    {
      "cell_type": "markdown",
      "source": [
        "## Seventh table Teacher"
      ],
      "metadata": {
        "id": "L-Wiz1F-hu-d"
      }
    },
    {
      "cell_type": "code",
      "source": [
        "conn.execute('''\n",
        "CREATE TABLE IF NOT EXISTS Teacher\n",
        "(ID INT PRIMARY KEY,\n",
        " BRANCH_ID REFERENCES BRANCHES(id),\n",
        " NAME TEXT,\n",
        " SUBJECT TEXT\n",
        ");\n",
        "''')\n",
        "conn.commit"
      ],
      "metadata": {
        "colab": {
          "base_uri": "https://localhost:8080/"
        },
        "id": "yCiqWBpViAdu",
        "outputId": "5ae62fc0-ef29-4da9-deee-ec3997662f78"
      },
      "execution_count": 145,
      "outputs": [
        {
          "output_type": "execute_result",
          "data": {
            "text/plain": [
              "<function Connection.commit()>"
            ]
          },
          "metadata": {},
          "execution_count": 145
        }
      ]
    },
    {
      "cell_type": "code",
      "source": [
        "for i in range(5):\n",
        "  branch_id = fake.random_int(min=1, max=5)\n",
        "  teacher_name = fake.name()\n",
        "  subject = fake.job()\n",
        "  conn.execute(f\"INSERT INTO Teacher (ID, BRANCH_ID, NAME, SUBJECT) VALUES ({i+1}, {branch_id}, '{teacher_name}', '{subject}');\")\n",
        "\n",
        "conn.commit()"
      ],
      "metadata": {
        "id": "ADhUHN-BiM9O"
      },
      "execution_count": 146,
      "outputs": []
    },
    {
      "cell_type": "code",
      "source": [
        "cursor = conn.execute(\"SELECT ID, BRANCH_ID, NAME, SUBJECT FROM Teacher\")\n",
        "\n",
        "for row in cursor:\n",
        "    print(\"ID =\", row[0])\n",
        "    print(\"BRANCH_ID =\", row[1])\n",
        "    print(\"NAME =\", row[2])\n",
        "    print(\"SUBJECT =\", row[3])"
      ],
      "metadata": {
        "colab": {
          "base_uri": "https://localhost:8080/"
        },
        "id": "e2zBM1eriWXy",
        "outputId": "39cc5d11-6e07-45b9-87cf-1c6bfc801b3e"
      },
      "execution_count": 147,
      "outputs": [
        {
          "output_type": "stream",
          "name": "stdout",
          "text": [
            "ID = 1\n",
            "BRANCH_ID = 2\n",
            "NAME = David Francis\n",
            "SUBJECT = Scientist, product/process development\n",
            "ID = 2\n",
            "BRANCH_ID = 5\n",
            "NAME = Brenda Caldwell\n",
            "SUBJECT = Paediatric nurse\n",
            "ID = 3\n",
            "BRANCH_ID = 1\n",
            "NAME = Amber Ross\n",
            "SUBJECT = Travel agency manager\n",
            "ID = 4\n",
            "BRANCH_ID = 4\n",
            "NAME = Jacob White\n",
            "SUBJECT = Maintenance engineer\n",
            "ID = 5\n",
            "BRANCH_ID = 3\n",
            "NAME = Michael Parker\n",
            "SUBJECT = Doctor, hospital\n"
          ]
        }
      ]
    },
    {
      "cell_type": "markdown",
      "source": [
        "## Eighth table Department"
      ],
      "metadata": {
        "id": "_Xy-BYkAib4I"
      }
    },
    {
      "cell_type": "code",
      "source": [
        "conn.execute('''\n",
        "CREATE TABLE IF NOT EXISTS Department\n",
        "(ID INT PRIMARY KEY,\n",
        " BRANCH_ID REFERENCES BRANCHES(id),\n",
        " NAME TEXT\n",
        ");\n",
        "''')\n",
        "conn.commit"
      ],
      "metadata": {
        "colab": {
          "base_uri": "https://localhost:8080/"
        },
        "id": "4Siw9y_Qip27",
        "outputId": "998c209f-a653-4225-b306-1ace7551c3f7"
      },
      "execution_count": 150,
      "outputs": [
        {
          "output_type": "execute_result",
          "data": {
            "text/plain": [
              "<function Connection.commit()>"
            ]
          },
          "metadata": {},
          "execution_count": 150
        }
      ]
    },
    {
      "cell_type": "code",
      "source": [
        "for i in range(5):\n",
        "  branch_id = fake.random_int(min=1, max=5)\n",
        "  department_name = fake.job()\n",
        "  conn.execute(f\"INSERT INTO Department (ID, BRANCH_ID, NAME) VALUES ({i+1}, {branch_id}, '{department_name}');\")\n",
        "\n",
        "conn.commit()"
      ],
      "metadata": {
        "id": "qq-vREKsixEq"
      },
      "execution_count": 151,
      "outputs": []
    },
    {
      "cell_type": "code",
      "source": [
        "cursor = conn.execute(\"SELECT ID, BRANCH_ID, NAME FROM Department\")\n",
        "\n",
        "for row in cursor:\n",
        "    print(\"ID =\", row[0])\n",
        "    print(\"BRANCH_ID =\", row[1])\n",
        "    print(\"NAME =\", row[2])"
      ],
      "metadata": {
        "colab": {
          "base_uri": "https://localhost:8080/"
        },
        "id": "Qgza-fwajFmd",
        "outputId": "b290217e-f71b-4d6f-ac36-0ee3474ede8b"
      },
      "execution_count": 152,
      "outputs": [
        {
          "output_type": "stream",
          "name": "stdout",
          "text": [
            "ID = 1\n",
            "BRANCH_ID = 3\n",
            "NAME = Fish farm manager\n",
            "ID = 2\n",
            "BRANCH_ID = 5\n",
            "NAME = Health visitor\n",
            "ID = 3\n",
            "BRANCH_ID = 1\n",
            "NAME = Seismic interpreter\n",
            "ID = 4\n",
            "BRANCH_ID = 3\n",
            "NAME = Medical technical officer\n",
            "ID = 5\n",
            "BRANCH_ID = 2\n",
            "NAME = Research officer, political party\n"
          ]
        }
      ]
    },
    {
      "cell_type": "markdown",
      "source": [
        "## Database Schema"
      ],
      "metadata": {
        "id": "4o_j3zwyjJaw"
      }
    },
    {
      "cell_type": "code",
      "source": [
        "from eralchemy import render_er\n",
        "\n",
        "# Define the schema in a format that can be rendered into an ERD diagram.\n",
        "er_diagram = '''\n",
        "[Companies]\n",
        "*ID int\n",
        "NAME text\n",
        "HEADQUARTERS text\n",
        "\n",
        "[Branches]\n",
        "*ID int\n",
        "COMPANY_ID int\n",
        "LOCATION text\n",
        "\n",
        "[Courses]\n",
        "*ID int\n",
        "BRANCH_ID int\n",
        "NAME text\n",
        "DURATION int\n",
        "\n",
        "[Students]\n",
        "*ID int\n",
        "COURSE_ID int\n",
        "NAME text\n",
        "AGE int\n",
        "\n",
        "[Enrollment]\n",
        "*ID int\n",
        "STUDENT_ID int\n",
        "COURSE_ID int\n",
        "ENROLLMENT_DATE text\n",
        "\n",
        "[Logging]\n",
        "*ID int\n",
        "ACTIVITY text\n",
        "TIMESTAMP text\n",
        "\n",
        "[Teacher]\n",
        "*ID int\n",
        "BRANCH_ID int\n",
        "NAME text\n",
        "SUBJECT text\n",
        "\n",
        "[Department]\n",
        "*ID int\n",
        "BRANCH_ID int\n",
        "NAME text\n",
        "\n",
        "Branches *-- Companies\n",
        "Courses *-- Branches\n",
        "Students *-- Courses\n",
        "Enrollment *-- Students\n",
        "Enrollment *-- Courses\n",
        "Teacher *-- Branches\n",
        "Department *-- Branches\n",
        "'''\n",
        "\n",
        "# Render the ER diagram to an image file\n",
        "output_path = \"/mnt/data/company_courses_erd.png\"\n",
        "render_er(er_diagram, output_path)\n",
        "\n",
        "output_path"
      ],
      "metadata": {
        "colab": {
          "base_uri": "https://localhost:8080/",
          "height": 1000
        },
        "id": "BtwGyxzqjNxm",
        "outputId": "2663e1b7-849a-49f7-e17d-0ca85b99e774"
      },
      "execution_count": 155,
      "outputs": [
        {
          "output_type": "stream",
          "name": "stdout",
          "text": [
            "Cannot process filename_or_input str: Could not parse SQLAlchemy URL from string '\n",
            "[Companies] \n",
            "*ID int\n",
            "NAME text\n",
            "HEADQUARTERS text\n",
            "\n",
            "[Branches]\n",
            "*ID int\n",
            "COMPANY_ID int\n",
            "LOCATION text\n",
            "\n",
            "[Courses]\n",
            "*ID int\n",
            "BRANCH_ID int\n",
            "NAME text\n",
            "DURATION int\n",
            "\n",
            "[Students]\n",
            "*ID int\n",
            "COURSE_ID int\n",
            "NAME text\n",
            "AGE int\n",
            "\n",
            "[Enrollment]\n",
            "*ID int\n",
            "STUDENT_ID int\n",
            "COURSE_ID int\n",
            "ENROLLMENT_DATE text\n",
            "\n",
            "[Logging]\n",
            "*ID int\n",
            "ACTIVITY text\n",
            "TIMESTAMP text\n",
            "\n",
            "[Teacher]\n",
            "*ID int\n",
            "BRANCH_ID int\n",
            "NAME text\n",
            "SUBJECT text\n",
            "\n",
            "[Department]\n",
            "*ID int\n",
            "BRANCH_ID int\n",
            "NAME text\n",
            "\n",
            "Branches *-- Companies\n",
            "Courses *-- Branches\n",
            "Students *-- Courses\n",
            "Enrollment *-- Students\n",
            "Enrollment *-- Courses\n",
            "Teacher *-- Branches\n",
            "Department *-- Branches\n",
            "'\n"
          ]
        },
        {
          "output_type": "execute_result",
          "data": {
            "text/plain": [
              "'/mnt/data/company_courses_erd.png'"
            ],
            "application/vnd.google.colaboratory.intrinsic+json": {
              "type": "string"
            }
          },
          "metadata": {},
          "execution_count": 155
        }
      ]
    }
  ]
}