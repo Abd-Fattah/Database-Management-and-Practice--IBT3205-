{
  "nbformat": 4,
  "nbformat_minor": 0,
  "metadata": {
    "colab": {
      "provenance": [],
      "authorship_tag": "ABX9TyMJ0tGDz9kO6/Tr01w9T3B7",
      "include_colab_link": true
    },
    "kernelspec": {
      "name": "python3",
      "display_name": "Python 3"
    },
    "language_info": {
      "name": "python"
    }
  },
  "cells": [
    {
      "cell_type": "markdown",
      "metadata": {
        "id": "view-in-github",
        "colab_type": "text"
      },
      "source": [
        "<a href=\"https://colab.research.google.com/github/Abd-Fattah/Database-Management-and-Practice--IBT3205-/blob/main/Lab%233.ipynb\" target=\"_parent\"><img src=\"https://colab.research.google.com/assets/colab-badge.svg\" alt=\"Open In Colab\"/></a>"
      ]
    },
    {
      "cell_type": "code",
      "execution_count": null,
      "metadata": {
        "id": "vCmbXkHxRs-9"
      },
      "outputs": [],
      "source": [
        "import pandas as pd\n",
        "import numpy as np\n",
        "import matplotlib as plt\n",
        "import seaborn as sns\n",
        "import sklearn as skl\n",
        "import sqlite3\n",
        "\n",
        "from faker import Faker\n",
        "fake = Faker()"
      ]
    },
    {
      "cell_type": "code",
      "source": [
        "conn = sqlite3.connect('Education_Company_Database.sqlite')"
      ],
      "metadata": {
        "id": "0RwE8wXrf32i"
      },
      "execution_count": null,
      "outputs": []
    },
    {
      "cell_type": "markdown",
      "source": [
        "## First table Companies"
      ],
      "metadata": {
        "id": "Zt8dLbvDdUZf"
      }
    },
    {
      "cell_type": "code",
      "source": [
        "conn.execute(\"DROP TABLE Companies\")\n",
        "\n",
        "conn.commit"
      ],
      "metadata": {
        "id": "2GRA_QJhfXux"
      },
      "execution_count": null,
      "outputs": []
    },
    {
      "cell_type": "code",
      "source": [
        "conn.execute('''\n",
        "CREATE TABLE IF NOT EXISTS Companies\n",
        "(ID INT PRIMARY KEY,\n",
        " NAME TEXT NOT NULL,\n",
        " HEADQUARTERS TEXT\n",
        ");\n",
        "''')\n",
        "\n",
        "conn.commit"
      ],
      "metadata": {
        "id": "jKhwUiNwSko8"
      },
      "execution_count": null,
      "outputs": []
    },
    {
      "cell_type": "code",
      "source": [
        "tables_list = [\"Companies\", \"Branches\", \"Courses\", \"Students\", \"Enrollment\", \"Logging\", \"Teacher\", \"Department\"]"
      ],
      "metadata": {
        "id": "PMQeMWrNUDh0"
      },
      "execution_count": null,
      "outputs": []
    },
    {
      "cell_type": "code",
      "source": [
        "for i in range(5):\n",
        "  name = fake.company()\n",
        "  headquarters = fake.city()\n",
        "  conn.execute(f\"INSERT INTO Companies (ID, NAME, HEADQUARTERS) VALUES ({i+1}, '{name}', '{headquarters}')\")\n",
        "conn.commit()"
      ],
      "metadata": {
        "id": "j9CqdInxT_cO"
      },
      "execution_count": null,
      "outputs": []
    },
    {
      "cell_type": "code",
      "source": [
        "cursor = conn.execute(\"SELECT ID, NAME, HEADQUARTERS FROM Companies\")\n",
        "\n",
        "for row in cursor:\n",
        "  print(\"ID = \", row[0])\n",
        "  print(\"NAME = \", row[1])\n",
        "  print(\"HEADQUARTERS\", row[2])"
      ],
      "metadata": {
        "id": "oW-EjEXFTffc"
      },
      "execution_count": null,
      "outputs": []
    },
    {
      "cell_type": "markdown",
      "source": [
        "## Second table Branches"
      ],
      "metadata": {
        "id": "TpE2r8_WdcYJ"
      }
    },
    {
      "cell_type": "code",
      "source": [
        "conn.execute(\"DROP TABLE Branches\")"
      ],
      "metadata": {
        "id": "H2dth078fVN2"
      },
      "execution_count": null,
      "outputs": []
    },
    {
      "cell_type": "code",
      "source": [
        "conn.execute('''\n",
        "CREATE TABLE IF NOT EXISTS Branches\n",
        "(ID INT PRIMARY KEY,\n",
        " COMPANY_ID INT REFERENCES Companies(id),\n",
        " LOCATION TEXT\n",
        ");\n",
        "''')\n",
        "\n",
        "conn.commit"
      ],
      "metadata": {
        "id": "d-rY6m2kWX9k"
      },
      "execution_count": null,
      "outputs": []
    },
    {
      "cell_type": "code",
      "source": [
        "for value in range(5):\n",
        "    location = fake.address()\n",
        "    conn.execute(f\"INSERT INTO {tables_list[1]} (ID, LOCATION) VALUES ({value+1}, '{location}');\")\n",
        "conn.commit()"
      ],
      "metadata": {
        "id": "-ESJMFzVY7fX"
      },
      "execution_count": null,
      "outputs": []
    },
    {
      "cell_type": "code",
      "source": [
        "cursor = conn.execute(\"SELECT ID, COMPANY_ID, LOCATION FROM Branches\")\n",
        "\n",
        "for row in cursor:\n",
        "  print(\"ID = \", row[0])\n",
        "  print(\"COMPANY_ID = \", row[1])\n",
        "  print(\"LOCATION = \", row[2])"
      ],
      "metadata": {
        "id": "9EoQMnZCZUjf"
      },
      "execution_count": null,
      "outputs": []
    },
    {
      "cell_type": "markdown",
      "source": [
        "## Third table Courses"
      ],
      "metadata": {
        "id": "EwBjM6STdgSp"
      }
    },
    {
      "cell_type": "code",
      "source": [
        "conn.execute(\"DROP TABLE COURSES\")"
      ],
      "metadata": {
        "id": "LRI-lAdrfLbA"
      },
      "execution_count": null,
      "outputs": []
    },
    {
      "cell_type": "code",
      "source": [
        "conn.execute('''\n",
        "CREATE TABLE IF NOT EXISTS Courses\n",
        "(ID INT PRIMARY KEY,\n",
        " BRANCH_ID INT REFERENCES Branches(id),\n",
        " NAME TEXT,\n",
        " DURATION INT\n",
        ");\n",
        "''')\n",
        "conn.commit"
      ],
      "metadata": {
        "id": "dmO26bnAbjDE"
      },
      "execution_count": null,
      "outputs": []
    },
    {
      "cell_type": "code",
      "source": [
        "course_duration = []\n",
        "\n",
        "for _ in range(5):\n",
        "  course_duration.append(fake.random_int(min=16, max=128))\n",
        "\n",
        "\n",
        "conn.execute(f\"INSERT INTO {tables_list[2]} (ID, NAME, DURATION) VALUES (1, 'Introduction to Python', {course_duration[0]});\")\n",
        "conn.execute(f\"INSERT INTO {tables_list[2]} (ID, NAME, DURATION) VALUES (2, 'Data Science Fundamentals', {course_duration[1]});\")\n",
        "conn.execute(f\"INSERT INTO {tables_list[2]} (ID, NAME, DURATION) VALUES (3, 'Machine Learning for Beginners', {course_duration[2]});\")\n",
        "conn.execute(f\"INSERT INTO {tables_list[2]} (ID, NAME, DURATION) VALUES (4, 'Web Development with JavaScript', {course_duration[3]});\")\n",
        "conn.execute(f\"INSERT INTO {tables_list[2]} (ID, NAME, DURATION) VALUES (5, 'Deep Learning with TensorFlow', {course_duration[4]});\")\n",
        "conn.commit"
      ],
      "metadata": {
        "id": "wxgev3L0dA_B"
      },
      "execution_count": null,
      "outputs": []
    },
    {
      "cell_type": "code",
      "source": [
        "cursor = conn.execute(\"SELECT ID, BRANCH_ID, NAME, DURATION FROM COURSES\")\n",
        "\n",
        "for row in cursor:\n",
        "  print(\"ID = \", row[0])\n",
        "  print(\"BRANCH_ID = \", row[1])\n",
        "  print(\"NAME = \", row[2])\n",
        "  print(\"DURATION = \", row[3])"
      ],
      "metadata": {
        "id": "d-7eqji6dB07"
      },
      "execution_count": null,
      "outputs": []
    },
    {
      "cell_type": "markdown",
      "source": [
        "## Fourth table Students\n"
      ],
      "metadata": {
        "id": "mzDPlY5Kdl28"
      }
    },
    {
      "cell_type": "code",
      "source": [
        "conn.execute('''\n",
        "CREATE TABLE IF NOT EXISTS Students\n",
        "(ID INT PRIMARY KEY,\n",
        " COURSE_ID INT REFERENCES Courses(id),\n",
        " NAME TEXT,\n",
        " AGE INT\n",
        ");\n",
        "''')\n",
        "conn.commit"
      ],
      "metadata": {
        "id": "7pGRSHh4dp0U"
      },
      "execution_count": null,
      "outputs": []
    },
    {
      "cell_type": "code",
      "source": [
        "for _ in range(5):\n",
        "  student_id = fake.random_int(min=1, max=10000)\n",
        "  course_id = fake.random_int(min=1, max=5)\n",
        "  student_name = fake.name()\n",
        "  student_age = fake.random_int(min=18, max=30)\n",
        "  conn.execute(f\"INSERT INTO Students (ID, COURSE_ID, NAME, AGE) VALUES ({student_id}, {course_id}, '{student_name}', {student_age});\")\n",
        "\n",
        "conn.commit()"
      ],
      "metadata": {
        "id": "mdQyagAfdyX7"
      },
      "execution_count": null,
      "outputs": []
    },
    {
      "cell_type": "code",
      "source": [
        "cursor = conn.execute(\"SELECT ID, COURSE_ID, NAME, AGE FROM STUDENTS\")\n",
        "\n",
        "for row in cursor:\n",
        "  print(\"ID = \", row[0])\n",
        "  print(\"COURSE_ID = \", row[1])\n",
        "  print(\"NAME= \", row[2])\n",
        "  print(\"AGE= \", row[3])"
      ],
      "metadata": {
        "id": "7nMwHv6XeIoc"
      },
      "execution_count": null,
      "outputs": []
    },
    {
      "cell_type": "markdown",
      "source": [
        "## Fifth table Enrollment"
      ],
      "metadata": {
        "id": "_wzcVlY8go3M"
      }
    },
    {
      "cell_type": "code",
      "source": [
        "conn.execute('''\n",
        "CREATE TABLE IF NOT EXISTS Enrollment\n",
        "(ID INT PRIMARY KEY,\n",
        " STUDENT_ID INT REFERENCES STUDENTS(id),\n",
        " COURSE_ID INT REFERENCES COURSES(id),\n",
        " ENROLLMENT_DATE TEXT\n",
        ");\n",
        "''')\n",
        "conn.commit"
      ],
      "metadata": {
        "id": "wTJCCFGeeLFJ"
      },
      "execution_count": null,
      "outputs": []
    },
    {
      "cell_type": "code",
      "source": [
        "from datetime import datetime, timedelta\n",
        "\n",
        "for i in range(5):\n",
        "    student_id = fake.random_int(min=1, max=10000)\n",
        "    course_id = fake.random_int(min=1, max=5)\n",
        "    enrollment_date = fake.date_between(start_date='-1y', end_date='today')\n",
        "    conn.execute(f\"INSERT INTO Enrollment (ID, STUDENT_ID, COURSE_ID, ENROLLMENT_DATE) VALUES ({i+1}, {student_id}, {course_id}, '{enrollment_date}');\")\n",
        "\n",
        "conn.commit()"
      ],
      "metadata": {
        "id": "c6vT0a-QhMUz"
      },
      "execution_count": null,
      "outputs": []
    },
    {
      "cell_type": "code",
      "source": [
        "cursor = conn.execute(\"SELECT ID, STUDENT_ID, COURSE_ID, ENROLLMENT_DATE FROM Enrollment\")\n",
        "\n",
        "for row in cursor:\n",
        "  print(\"ID = \", row[0])\n",
        "  print(\"STUDENT_ID = \", row[1])\n",
        "  print(\"COURSE_ID = \", row[2])\n",
        "  print(\"ENROLLMENT_DATE = \", row[3])"
      ],
      "metadata": {
        "id": "7pfg7RgFhSlA"
      },
      "execution_count": null,
      "outputs": []
    },
    {
      "cell_type": "markdown",
      "source": [
        "## Sixth table Logging"
      ],
      "metadata": {
        "id": "wTu7KuF3hYAZ"
      }
    },
    {
      "cell_type": "code",
      "source": [
        "conn.execute('''\n",
        "CREATE TABLE IF NOT EXISTS Logging\n",
        "(ID INT PRIMARY KEY,\n",
        " ACTIVITY TEXT,\n",
        " TIMESTAMP TEXT\n",
        ");\n",
        "''')\n",
        "conn.commit"
      ],
      "metadata": {
        "id": "Su-0LnaUhXI8"
      },
      "execution_count": null,
      "outputs": []
    },
    {
      "cell_type": "code",
      "source": [
        "for i in range(5):\n",
        "    activity = fake.sentence()\n",
        "    timestamp = fake.date_time_between(start_date=\"-1y\", end_date=\"now\")\n",
        "    conn.execute(f\"INSERT INTO Logging (ID, ACTIVITY, TIMESTAMP) VALUES ({i+1}, '{activity}', '{timestamp}');\")\n",
        "\n",
        "conn.commit()"
      ],
      "metadata": {
        "id": "X9JWqrdfhnKe"
      },
      "execution_count": null,
      "outputs": []
    },
    {
      "cell_type": "code",
      "source": [
        "cursor = conn.execute(\"SELECT ID, ACTIVITY, TIMESTAMP FROM Logging\")\n",
        "\n",
        "for row in cursor:\n",
        "    print(\"ID =\", row[0])\n",
        "    print(\"ACTIVITY =\", row[1])\n",
        "    print(\"TIMESTAMP =\", row[2])"
      ],
      "metadata": {
        "id": "UuY9LQcUhs7T"
      },
      "execution_count": null,
      "outputs": []
    },
    {
      "cell_type": "markdown",
      "source": [
        "## Seventh table Teacher"
      ],
      "metadata": {
        "id": "L-Wiz1F-hu-d"
      }
    },
    {
      "cell_type": "code",
      "source": [
        "conn.execute('''\n",
        "CREATE TABLE IF NOT EXISTS Teacher\n",
        "(ID INT PRIMARY KEY,\n",
        " BRANCH_ID REFERENCES BRANCHES(id),\n",
        " NAME TEXT,\n",
        " SUBJECT TEXT\n",
        ");\n",
        "''')\n",
        "conn.commit"
      ],
      "metadata": {
        "id": "yCiqWBpViAdu"
      },
      "execution_count": null,
      "outputs": []
    },
    {
      "cell_type": "code",
      "source": [
        "for i in range(5):\n",
        "  branch_id = fake.random_int(min=1, max=5)\n",
        "  teacher_name = fake.name()\n",
        "  subject = fake.job()\n",
        "  conn.execute(f\"INSERT INTO Teacher (ID, BRANCH_ID, NAME, SUBJECT) VALUES ({i+1}, {branch_id}, '{teacher_name}', '{subject}');\")\n",
        "\n",
        "conn.commit()"
      ],
      "metadata": {
        "id": "ADhUHN-BiM9O"
      },
      "execution_count": null,
      "outputs": []
    },
    {
      "cell_type": "code",
      "source": [
        "cursor = conn.execute(\"SELECT ID, BRANCH_ID, NAME, SUBJECT FROM Teacher\")\n",
        "\n",
        "for row in cursor:\n",
        "    print(\"ID =\", row[0])\n",
        "    print(\"BRANCH_ID =\", row[1])\n",
        "    print(\"NAME =\", row[2])\n",
        "    print(\"SUBJECT =\", row[3])"
      ],
      "metadata": {
        "id": "e2zBM1eriWXy"
      },
      "execution_count": null,
      "outputs": []
    },
    {
      "cell_type": "markdown",
      "source": [
        "## Eighth table Department"
      ],
      "metadata": {
        "id": "_Xy-BYkAib4I"
      }
    },
    {
      "cell_type": "code",
      "source": [
        "conn.execute('''\n",
        "CREATE TABLE IF NOT EXISTS Department\n",
        "(ID INT PRIMARY KEY,\n",
        " BRANCH_ID REFERENCES BRANCHES(id),\n",
        " NAME TEXT\n",
        ");\n",
        "''')\n",
        "conn.commit"
      ],
      "metadata": {
        "id": "4Siw9y_Qip27"
      },
      "execution_count": null,
      "outputs": []
    },
    {
      "cell_type": "code",
      "source": [
        "for i in range(5):\n",
        "  branch_id = fake.random_int(min=1, max=5)\n",
        "  department_name = fake.job()\n",
        "  conn.execute(f\"INSERT INTO Department (ID, BRANCH_ID, NAME) VALUES ({i+1}, {branch_id}, '{department_name}');\")\n",
        "\n",
        "conn.commit()"
      ],
      "metadata": {
        "id": "qq-vREKsixEq"
      },
      "execution_count": null,
      "outputs": []
    },
    {
      "cell_type": "code",
      "source": [
        "cursor = conn.execute(\"SELECT ID, BRANCH_ID, NAME FROM Department\")\n",
        "\n",
        "for row in cursor:\n",
        "    print(\"ID =\", row[0])\n",
        "    print(\"BRANCH_ID =\", row[1])\n",
        "    print(\"NAME =\", row[2])"
      ],
      "metadata": {
        "id": "Qgza-fwajFmd"
      },
      "execution_count": null,
      "outputs": []
    },
    {
      "cell_type": "markdown",
      "source": [
        "## Database Schema"
      ],
      "metadata": {
        "id": "4o_j3zwyjJaw"
      }
    },
    {
      "cell_type": "code",
      "source": [
        "from eralchemy import render_er\n",
        "\n",
        "er_diagram = '''\n",
        "[Companies]\n",
        "*ID int\n",
        "NAME text\n",
        "HEADQUARTERS text\n",
        "\n",
        "[Branches]\n",
        "*ID int\n",
        "COMPANY_ID int\n",
        "LOCATION text\n",
        "\n",
        "[Courses]\n",
        "*ID int\n",
        "BRANCH_ID int\n",
        "NAME text\n",
        "DURATION int\n",
        "\n",
        "[Students]\n",
        "*ID int\n",
        "COURSE_ID int\n",
        "NAME text\n",
        "AGE int\n",
        "\n",
        "[Enrollment]\n",
        "*ID int\n",
        "STUDENT_ID int\n",
        "COURSE_ID int\n",
        "ENROLLMENT_DATE text\n",
        "\n",
        "[Logging]\n",
        "*ID int\n",
        "ACTIVITY text\n",
        "TIMESTAMP text\n",
        "\n",
        "[Teacher]\n",
        "*ID int\n",
        "BRANCH_ID int\n",
        "NAME text\n",
        "SUBJECT text\n",
        "\n",
        "[Department]\n",
        "*ID int\n",
        "BRANCH_ID int\n",
        "NAME text\n",
        "\n",
        "Branches *-- Companies\n",
        "Courses *-- Branches\n",
        "Students *-- Courses\n",
        "Enrollment *-- Students\n",
        "Enrollment *-- Courses\n",
        "Teacher *-- Branches\n",
        "Department *-- Branches\n",
        "'''\n",
        "\n",
        "# Render the ER diagram to an image file, you can find png on your drive\n",
        "output_path = \"/media/ompany_courses_erd.png\"\n",
        "render_er(er_diagram, output_path)\n",
        "\n",
        "output_path"
      ],
      "metadata": {
        "id": "BtwGyxzqjNxm"
      },
      "execution_count": null,
      "outputs": []
    }
  ]
}