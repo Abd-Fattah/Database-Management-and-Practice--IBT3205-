{
  "nbformat": 4,
  "nbformat_minor": 0,
  "metadata": {
    "colab": {
      "provenance": [],
      "authorship_tag": "ABX9TyPZ5vujKF/DFgupajnqtwmc",
      "include_colab_link": true
    },
    "kernelspec": {
      "name": "python3",
      "display_name": "Python 3"
    },
    "language_info": {
      "name": "python"
    }
  },
  "cells": [
    {
      "cell_type": "markdown",
      "metadata": {
        "id": "view-in-github",
        "colab_type": "text"
      },
      "source": [
        "<a href=\"https://colab.research.google.com/github/Abd-Fattah/Database-Management-and-Practice--IBT3205-/blob/main/Lab%234.ipynb\" target=\"_parent\"><img src=\"https://colab.research.google.com/assets/colab-badge.svg\" alt=\"Open In Colab\"/></a>"
      ]
    },
    {
      "cell_type": "code",
      "execution_count": 3,
      "metadata": {
        "id": "etH4z7-PVFst"
      },
      "outputs": [],
      "source": [
        "import sqlite3\n",
        "import pandas as pd\n",
        "%load_ext sql"
      ]
    },
    {
      "cell_type": "code",
      "source": [
        "conn = sqlite3.connect('lab_session.db')\n",
        "c = conn.cursor()"
      ],
      "metadata": {
        "id": "ELS72mlzWBFR"
      },
      "execution_count": 4,
      "outputs": []
    },
    {
      "cell_type": "code",
      "source": [
        "# Define SQL commands\n",
        "commands = [\n",
        "    \"\"\"\n",
        "    CREATE TABLE IF NOT EXISTS students (\n",
        "        student_id INTEGER PRIMARY KEY,\n",
        "        first_name TEXT,\n",
        "        last_name TEXT,\n",
        "        major TEXT\n",
        "    );\n",
        "    \"\"\",\n",
        "    \"\"\"\n",
        "    INSERT INTO students (first_name, last_name, major)\n",
        "    VALUES ('John', 'Doe', 'Computer Science'),\n",
        "           ('Jane', 'Doe', 'Mathematics'),\n",
        "           ('Mike', 'Jordan', 'Physics');\n",
        "    \"\"\",\n",
        "    \"\"\"\n",
        "    CREATE TABLE IF NOT EXISTS courses (\n",
        "        course_id INTEGER PRIMARY KEY,\n",
        "        course_name TEXT,\n",
        "        department_id INTEGER,\n",
        "        instructor_id INTEGER,\n",
        "        FOREIGN KEY (department_id) REFERENCES departments(department_id),\n",
        "        FOREIGN KEY (instructor_id) REFERENCES instructors(instructor_id)\n",
        "    );\n",
        "    \"\"\",\n",
        "    \"\"\"\n",
        "    INSERT INTO courses (course_name, department_id, instructor_id)\n",
        "    VALUES ('Database Systems', 1, 1),\n",
        "           ('Data Structures', 1, 2),\n",
        "           ('Linear Algebra', 2, 3),\n",
        "           ('Quantum Mechanics', 3, 4);\n",
        "    \"\"\",\n",
        "    \"\"\"\n",
        "    CREATE TABLE IF NOT EXISTS enrollments (\n",
        "        enrollment_id INTEGER PRIMARY KEY,\n",
        "        student_id INTEGER,\n",
        "        course_id INTEGER,\n",
        "        FOREIGN KEY (student_id) REFERENCES students(student_id),\n",
        "        FOREIGN KEY (course_id) REFERENCES courses(course_id)\n",
        "    );\n",
        "    \"\"\",\n",
        "    \"\"\"\n",
        "    INSERT INTO enrollments (student_id, course_id)\n",
        "    VALUES (1, 1),\n",
        "           (1, 2),\n",
        "           (2, 3),\n",
        "           (3, 4);\n",
        "    \"\"\",\n",
        "    \"\"\"\n",
        "    CREATE TABLE IF NOT EXISTS instructors (\n",
        "        instructor_id INTEGER PRIMARY KEY,\n",
        "        first_name TEXT,\n",
        "        last_name TEXT,\n",
        "        department_id INTEGER,\n",
        "        FOREIGN KEY (department_id) REFERENCES departments(department_id)\n",
        "    );\n",
        "    \"\"\",\n",
        "    \"\"\"\n",
        "    INSERT INTO instructors (first_name, last_name, department_id)\n",
        "    VALUES ('Robert', 'Smith', 1),\n",
        "           ('Susan', 'Johnson', 2),\n",
        "           ('Michael', 'Brown', 3),\n",
        "           ('Elizabeth', 'Taylor', 4);\n",
        "    \"\"\",\n",
        "    \"\"\"\n",
        "    CREATE TABLE IF NOT EXISTS departments (\n",
        "        department_id INTEGER PRIMARY KEY,\n",
        "        department_name TEXT\n",
        "    );\n",
        "    \"\"\",\n",
        "    \"\"\"\n",
        "    INSERT INTO departments (department_name)\n",
        "    VALUES ('Computer Science'),\n",
        "           ('Mathematics'),\n",
        "           ('Physics'),\n",
        "           ('Chemistry');\n",
        "    \"\"\"\n",
        "]\n",
        "\n",
        "# Execute SQL commands\n",
        "for command in commands:\n",
        "    c.execute(command)\n",
        "\n",
        "# Commit changes and close connection\n",
        "conn.commit()\n",
        "conn.close()"
      ],
      "metadata": {
        "id": "4dubs9l4W0DR"
      },
      "execution_count": 5,
      "outputs": []
    },
    {
      "cell_type": "code",
      "source": [
        "conn = sqlite3.connect('lab_session.db')\n",
        "\n",
        "inner_joing_querry = \"\"\"\n",
        "SELECT students.first_name AS student_name, courses.course_name\n",
        "FROM students\n",
        "INNER JOIN enrollments ON students.student_id = enrollments.student_id\n",
        "INNER JOIN courses ON enrollments.course_id = courses.course_id;\n",
        "\"\"\"\n",
        "\n",
        "inner_join_df = pd.read_sql_query(inner_joing_querry, conn)\n",
        "inner_join_df"
      ],
      "metadata": {
        "id": "FL_V8WCdW57j"
      },
      "execution_count": null,
      "outputs": []
    },
    {
      "cell_type": "code",
      "source": [
        "# Execute LEFT JOIN query and visualize the result\n",
        "left_join_query = \"\"\"\n",
        "SELECT students.first_name AS student_name, courses.course_name\n",
        "FROM students\n",
        "LEFT JOIN enrollments ON students.student_id = enrollments.student_id\n",
        "LEFT JOIN courses ON enrollments.course_id = courses.course_id;\n",
        "\"\"\"\n",
        "\n",
        "left_join_df = pd.read_sql_query(left_join_query, conn)\n",
        "left_join_df"
      ],
      "metadata": {
        "id": "AP1Y5xVuYkFm"
      },
      "execution_count": null,
      "outputs": []
    },
    {
      "cell_type": "code",
      "source": [
        "# Reconnect to the SQLite database\n",
        "conn = sqlite3.connect('lab_session.db')\n",
        "\n",
        "# Execute FULL JOIN query (emulated) and visualize the result\n",
        "full_join_query_1 = \"\"\"\n",
        "WITH RECURSIVE full_join AS (\n",
        "    SELECT students.first_name AS student_name, courses.course_name\n",
        "    FROM students\n",
        "    LEFT JOIN enrollments ON students.student_id = enrollments.student_id\n",
        "    LEFT JOIN courses ON enrollments.course_id = courses.course_id\n",
        "    UNION ALL\n",
        "    SELECT students.first_name AS student_name, courses.course_name\n",
        "    FROM courses\n",
        "    LEFT JOIN enrollments ON courses.course_id = enrollments.course_id\n",
        "    LEFT JOIN students ON enrollments.student_id = students.student_id\n",
        "    WHERE students.student_id IS NULL\n",
        ")\n",
        "SELECT * FROM full_join;\n",
        "\"\"\"\n",
        "\n",
        "full_join_df_1 = pd.read_sql_query(full_join_query_1, conn)\n",
        "full_join_df_1\n"
      ],
      "metadata": {
        "id": "wny4dqMkYv9Q"
      },
      "execution_count": null,
      "outputs": []
    },
    {
      "cell_type": "code",
      "source": [
        "conn = sqlite3.connect('lab_session.db')\n",
        "\n",
        "subquerry_example1 = \"\"\"\n",
        "SELECT first_name, last_name\n",
        "FROM Students\n",
        "WHERE student_id IN (\n",
        "  SELECT student_id\n",
        "  FROM enrollments\n",
        "  WHERE course_id IN (\n",
        "    SELECT course_id\n",
        "    FROM courses\n",
        "    WHERE course_name = 'Database Systems'\n",
        "  )\n",
        ");\n",
        "\"\"\"\n",
        "\n",
        "subquerry_example1_df = pd.read_sql_query(subquerry_example1, conn)\n",
        "subquerry_example1_df"
      ],
      "metadata": {
        "id": "sdM4aynPZhRh"
      },
      "execution_count": null,
      "outputs": []
    },
    {
      "cell_type": "code",
      "source": [
        "conn = sqlite3.connect('lab_session.db')\n",
        "\n",
        "subquerry_example2 = \"\"\"\n",
        "SELECT course_name\n",
        "FROM courses\n",
        "WHERE department_id = (\n",
        "  SELECT department_id\n",
        "  FROM departments\n",
        "  WHERE department_name = 'Computer Science'\n",
        ");\n",
        "\"\"\"\n",
        "\n",
        "subquerry_example2_df = pd.read_sql_query(subquerry_example2, conn)\n",
        "subquerry_example2_df"
      ],
      "metadata": {
        "id": "dRMHA1BXaVd8"
      },
      "execution_count": null,
      "outputs": []
    },
    {
      "cell_type": "code",
      "source": [
        "# Reconnect to the SQLite database\n",
        "conn = sqlite3.connect('lab_session.db')\n",
        "\n",
        "# Execute Aggregate Function query and visualize the result\n",
        "agg_function_example_1 = \"\"\"\n",
        "SELECT departments.department_name, COUNT(DISTINCT instructors.instructor_id) AS instructor_count\n",
        "FROM departments\n",
        "LEFT JOIN instructors ON departments.department_id = instructors.department_id\n",
        "GROUP BY departments.department_name;\n",
        "\"\"\"\n",
        "\n",
        "agg_df_1 = pd.read_sql_query(agg_function_example_1, conn)\n",
        "agg_df_1"
      ],
      "metadata": {
        "id": "rBHAHIREawWC"
      },
      "execution_count": null,
      "outputs": []
    },
    {
      "cell_type": "code",
      "source": [
        "# Execute Aggregate Function query and visualize the result\n",
        "agg_function_example_2 = \"\"\"\n",
        "SELECT courses.course_name, COUNT(DISTINCT enrollments.student_id) AS student_count\n",
        "FROM courses\n",
        "LEFT JOIN enrollments ON courses.course_id = enrollments.course_id\n",
        "GROUP BY courses.course_name\n",
        "HAVING student_count > 0;\n",
        "\"\"\"\n",
        "\n",
        "agg_df_2 = pd.read_sql_query(agg_function_example_2, conn)\n",
        "agg_df_2"
      ],
      "metadata": {
        "id": "QWHjuXybbGJC"
      },
      "execution_count": null,
      "outputs": []
    },
    {
      "cell_type": "code",
      "source": [
        "agg_function_task1 = \"\"\"\n",
        "SELECT departments.department_name, COUNT(DISTINCT courses.course_id) AS course_count\n",
        "FROM courses\n",
        "LEFT JOIN departments ON courses.department_id = departments.department_id\n",
        "GROUP BY departments.department_name\n",
        "HAVING course_count > 0;\n",
        "\"\"\"\n",
        "\n",
        "agg_df_task1 = pd.read_sql_query(agg_function_task1, conn)\n",
        "agg_df_task1"
      ],
      "metadata": {
        "id": "dw6-rVNCcCeP"
      },
      "execution_count": null,
      "outputs": []
    },
    {
      "cell_type": "code",
      "source": [
        "agg_function_task2 = \"\"\"\n",
        "SELECT departments.department_name, COUNT(DISTINCT instructors.instructor_id) AS instructors_count\n",
        "FROM instructors\n",
        "LEFT JOIN departments ON instructors.department_id = departments.department_id\n",
        "GROUP BY departments.department_name\n",
        "HAVING instructors_count > 0;\n",
        "\"\"\"\n",
        "\n",
        "agg_df_task2 = pd.read_sql_query(agg_function_task2, conn)\n",
        "agg_df_task2"
      ],
      "metadata": {
        "id": "-ztvLi9Pd0kX"
      },
      "execution_count": null,
      "outputs": []
    },
    {
      "cell_type": "code",
      "source": [
        "agg_function_task3 = \"\"\"\n",
        "SELECT\n",
        "    departments.department_name,\n",
        "    AVG(student_count) AS avg_students_per_course\n",
        "FROM (\n",
        "    SELECT\n",
        "        courses.course_name,\n",
        "        courses.department_id,\n",
        "        COUNT(DISTINCT enrollments.student_id) AS student_count\n",
        "    FROM courses\n",
        "    LEFT JOIN enrollments ON courses.course_id = enrollments.course_id\n",
        "    GROUP BY courses.course_name, courses.department_id\n",
        ") AS course_enrollments\n",
        "JOIN departments ON course_enrollments.department_id = departments.department_id\n",
        "GROUP BY departments.department_name;\n",
        "\"\"\"\n",
        "\n",
        "agg_df_task3 = pd.read_sql_query(agg_function_task3, conn)\n",
        "agg_df_task3"
      ],
      "metadata": {
        "id": "UKJmrZT4ejEX"
      },
      "execution_count": null,
      "outputs": []
    }
  ]
}