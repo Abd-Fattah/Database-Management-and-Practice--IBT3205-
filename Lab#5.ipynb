{
  "nbformat": 4,
  "nbformat_minor": 0,
  "metadata": {
    "colab": {
      "provenance": [],
      "authorship_tag": "ABX9TyMW4Oa8MQ3jywjzEtfr5Ksa",
      "include_colab_link": true
    },
    "kernelspec": {
      "name": "python3",
      "display_name": "Python 3"
    },
    "language_info": {
      "name": "python"
    }
  },
  "cells": [
    {
      "cell_type": "markdown",
      "metadata": {
        "id": "view-in-github",
        "colab_type": "text"
      },
      "source": [
        "<a href=\"https://colab.research.google.com/github/Abd-Fattah/Database-Management-and-Practice--IBT3205-/blob/main/Lab%235.ipynb\" target=\"_parent\"><img src=\"https://colab.research.google.com/assets/colab-badge.svg\" alt=\"Open In Colab\"/></a>"
      ]
    },
    {
      "cell_type": "code",
      "execution_count": null,
      "metadata": {
        "id": "Y0uT5XEVY4iE"
      },
      "outputs": [],
      "source": [
        "import pandas as pd\n",
        "import sqlite3"
      ]
    },
    {
      "cell_type": "code",
      "source": [
        "# Import the required library\n",
        "import sqlite3\n",
        "\n",
        "# Connect to the database (or create it if it doesn’t exist)\n",
        "conn = sqlite3.connect('AdvancedSQLLab.db')\n",
        "\n",
        "# Create a cursor object to execute SQL commands\n",
        "cursor = conn.cursor()\n",
        "\n",
        "# SQL commands to create tables\n",
        "commands = [\n",
        "    \"\"\"\n",
        "    CREATE TABLE Products (\n",
        "        ProductID INTEGER PRIMARY KEY,\n",
        "        ProductName TEXT,\n",
        "        Price REAL\n",
        "    );\n",
        "    \"\"\",\n",
        "    \"\"\"\n",
        "    CREATE TABLE Customers (\n",
        "        CustomerID INTEGER PRIMARY KEY,\n",
        "        CustomerName TEXT,\n",
        "        ContactNumber TEXT\n",
        "    );\n",
        "    \"\"\",\n",
        "    \"\"\"\n",
        "    CREATE TABLE Sales (\n",
        "        SaleID INTEGER PRIMARY KEY,\n",
        "        ProductID INTEGER,\n",
        "        CustomerID INTEGER,\n",
        "        SaleDate DATE,\n",
        "        SaleAmount REAL,\n",
        "        FOREIGN KEY (ProductID) REFERENCES Products(ProductID),\n",
        "        FOREIGN KEY (CustomerID) REFERENCES Customers(CustomerID)\n",
        "    );\n",
        "    \"\"\",\n",
        "    \"\"\"\n",
        "    CREATE TABLE Inventories (\n",
        "        InventoryID INTEGER PRIMARY KEY,\n",
        "        ProductID INTEGER,\n",
        "        StockQuantity INTEGER,\n",
        "        FOREIGN KEY (ProductID) REFERENCES Products(ProductID)\n",
        "    );\n",
        "    \"\"\",\n",
        "    \"\"\"\n",
        "    CREATE TABLE Suppliers (\n",
        "        SupplierID INTEGER PRIMARY KEY,\n",
        "        SupplierName TEXT,\n",
        "        ContactNumber TEXT\n",
        "    );\n",
        "    \"\"\"\n",
        "]\n",
        "\n",
        "# Execute the commands to create tables\n",
        "for command in commands:\n",
        "    cursor.execute(command)\n",
        "\n",
        "# SQL commands to insert sample data into tables\n",
        "commands = [\n",
        "    \"\"\"\n",
        "    INSERT INTO Products (ProductName, Price)\n",
        "    VALUES ('Product A', 20.0), ('Product B', 15.0), ('Product C', 30.0);\n",
        "    \"\"\",\n",
        "    \"\"\"\n",
        "    INSERT INTO Customers (CustomerName, ContactNumber)\n",
        "    VALUES ('Customer 1', '1234567890'), ('Customer 2', '0987654321'), ('Customer 3', '1122334455');\n",
        "    \"\"\",\n",
        "    \"\"\"\n",
        "    INSERT INTO Sales (ProductID, CustomerID, SaleDate, SaleAmount)\n",
        "    VALUES (1, 1, '2023-10-01', 40.0), (2, 2, '2023-10-02', 30.0), (3, 3, '2023-10-03', 60.0);\n",
        "    \"\"\",\n",
        "    \"\"\"\n",
        "    INSERT INTO Inventories (ProductID, StockQuantity)\n",
        "    VALUES (1, 100), (2, 200), (3, 150);\n",
        "    \"\"\",\n",
        "    \"\"\"\n",
        "    INSERT INTO Suppliers (SupplierName, ContactNumber)\n",
        "    VALUES ('Supplier 1', '1112223333'), ('Supplier 2', '4445556666'), ('Supplier 3', '7778889999');\n",
        "    \"\"\"\n",
        "]\n",
        "\n",
        "# Execute the commands to insert sample data into tables\n",
        "for command in commands:\n",
        "    cursor.execute(command)\n",
        "\n",
        "# Commit the transactions and close the connection\n",
        "conn.commit()\n",
        "conn.close()\n",
        "\n",
        "# Connect to the database\n",
        "conn = sqlite3.connect('AdvancedSQLLab.db')\n",
        "\n",
        "# Create a cursor object to execute SQL commands\n",
        "cursor = conn.cursor()\n",
        "\n",
        "# SQL commands to insert additional data into tables\n",
        "commands = [\n",
        "    \"\"\"\n",
        "    INSERT INTO Products (ProductName, Price)\n",
        "    VALUES\n",
        "    ('Product D', 25.0), ('Product E', 35.0), ('Product F', 28.0),\n",
        "    ('Product G', 22.0), ('Product H', 19.0), ('Product I', 40.0),\n",
        "    ('Product J', 29.0), ('Product K', 24.0), ('Product L', 33.0),\n",
        "    ('Product M', 27.0);\n",
        "    \"\"\",\n",
        "    \"\"\"\n",
        "    INSERT INTO Customers (CustomerName, ContactNumber)\n",
        "    VALUES\n",
        "    ('Customer 4', '2223334444'), ('Customer 5', '5556667777'), ('Customer 6', '8889990000'),\n",
        "    ('Customer 7', '1213141516'), ('Customer 8', '1718192021'), ('Customer 9', '2223242526'),\n",
        "    ('Customer 10', '2728293031'), ('Customer 11', '3233343536'), ('Customer 12', '3738394041'),\n",
        "    ('Customer 13', '4243444546');\n",
        "    \"\"\",\n",
        "    \"\"\"\n",
        "    INSERT INTO Sales (ProductID, CustomerID, SaleDate, SaleAmount)\n",
        "    VALUES\n",
        "    (4, 4, '2023-10-04', 50.0), (5, 5, '2023-10-05', 70.0), (6, 6, '2023-10-06', 56.0),\n",
        "    (7, 7, '2023-10-07', 44.0), (8, 8, '2023-10-08', 38.0), (9, 9, '2023-10-09', 80.0),\n",
        "    (10, 10, '2023-10-10', 58.0), (11, 11, '2023-10-11', 48.0), (12, 12, '2023-10-12', 66.0),\n",
        "    (13, 13, '2023-10-13', 54.0);\n",
        "    \"\"\",\n",
        "    \"\"\"\n",
        "    INSERT INTO Inventories (ProductID, StockQuantity)\n",
        "    VALUES\n",
        "    (4, 120), (5, 220), (6, 180),\n",
        "    (7, 110), (8, 210), (9, 160),\n",
        "    (10, 130), (11, 230), (12, 190),\n",
        "    (13, 140);\n",
        "    \"\"\",\n",
        "    \"\"\"\n",
        "    INSERT INTO Suppliers (SupplierName, ContactNumber)\n",
        "    VALUES\n",
        "    ('Supplier 4', '4546474849'), ('Supplier 5', '5051525354'), ('Supplier 6', '5556575859'),\n",
        "    ('Supplier 7', '6061626364'), ('Supplier 8', '6566676869'), ('Supplier 9', '7071727374'),\n",
        "    ('Supplier 10', '7576777879'), ('Supplier 11', '8081828384'), ('Supplier 12', '8586878889'),\n",
        "    ('Supplier 13', '9091929394');\n",
        "    \"\"\"\n",
        "]\n",
        "\n",
        "# Execute the commands to insert additional data into tables\n",
        "for command in commands:\n",
        "    cursor.execute(command)\n",
        "\n",
        "# Commit the transactions and close the connection\n",
        "conn.commit()\n",
        "conn.close()"
      ],
      "metadata": {
        "id": "MK_2Q_Z_aq8l"
      },
      "execution_count": null,
      "outputs": []
    },
    {
      "cell_type": "code",
      "source": [
        "conn = sqlite3.connect('AdvancedSQLLab.db')\n",
        "cursor = conn.cursor()\n",
        "\n",
        "running_total_querry = \"\"\"\n",
        "SELECT\n",
        "ProductID,\n",
        "SaleDate,\n",
        "SaleAmount,\n",
        "SUM(SaleAmount) OVER (PARTITION BY ProductID ORDER BY SaleDate) AS RunningTotal\n",
        "FROM Sales\n",
        "\"\"\"\n",
        "\n",
        "running_total_querry_pdf = pd.read_sql_query(running_total_querry, conn)\n",
        "running_total_querry_pdf"
      ],
      "metadata": {
        "id": "wEf5eFcycF3t"
      },
      "execution_count": null,
      "outputs": []
    },
    {
      "cell_type": "code",
      "source": [
        "ranking_querry = \"\"\"\n",
        "SELECT\n",
        "ProductID,\n",
        "SaleDate,\n",
        "SaleAmount,\n",
        "RANK() OVER (PARTITION BY ProductID ORDER BY SaleAmount DESC) AS Ranking\n",
        "FROM Sales\n",
        "\"\"\"\n",
        "\n",
        "ranking_querry_pdf = pd.read_sql_query(ranking_querry, conn)\n",
        "ranking_querry_pdf"
      ],
      "metadata": {
        "id": "8dge30lRdbmh"
      },
      "execution_count": null,
      "outputs": []
    },
    {
      "cell_type": "code",
      "source": [
        "cte_querry = \"\"\"\n",
        "WITH TotalSales_CTE AS (\n",
        "  SELECT ProductID, SUM(SaleAmount) AS TotalSales\n",
        "  FROM Sales\n",
        "  GROUP BY ProductID\n",
        ")\n",
        "SELECT ProductID, TotalSales\n",
        "FROM TotalSales_CTE\n",
        "WHERE TotalSales > 40;\n",
        "\"\"\"\n",
        "\n",
        "cte_df = pd.read_sql_query(cte_querry, conn)\n",
        "cte_df"
      ],
      "metadata": {
        "id": "xXPJ6e4Bd1UD"
      },
      "execution_count": null,
      "outputs": []
    },
    {
      "cell_type": "code",
      "source": [
        "task_1_querry = \"\"\"\n",
        "WITH SalesSummary AS(\n",
        "  SELECT ProductID, SUM(SaleAmount) AS TotalSales, AVG(SaleAMount) AS SalesAverage, MIN(SaleAmount) AS MinSales, MAX(SaleAmount) AS MaxSales\n",
        "  FROM Sales\n",
        "  GROUP BY ProductID\n",
        ")\n",
        "SELECT *\n",
        "FROM SalesSummary;\n",
        "\"\"\"\n",
        "\n",
        "task_1 = pd.read_sql_query(task_1_querry, conn)\n",
        "task_1"
      ],
      "metadata": {
        "id": "uP1wy6DefHac"
      },
      "execution_count": null,
      "outputs": []
    },
    {
      "cell_type": "code",
      "source": [
        "task_2_querry = \"\"\"\n",
        "WITH TotalSales AS (\n",
        "  SELECT ProductID, SUM(SaleAmount) AS TotalSales\n",
        "  FROM Sales\n",
        "  GROUP BY ProductID\n",
        ")\n",
        "SELECT ProductID, TotalSales,\n",
        "RANK() OVER (ORDER BY TotalSales DESC) AS Ranking\n",
        "FROM TotalSales;\n",
        "\"\"\"\n",
        "\n",
        "task_2 = pd.read_sql_query(task_2_querry, conn)\n",
        "task_2"
      ],
      "metadata": {
        "id": "cqw5TzQvguAA"
      },
      "execution_count": null,
      "outputs": []
    },
    {
      "cell_type": "code",
      "source": [
        "task_3_querry = \"\"\"\n",
        "WITH TotalSales AS (\n",
        "  SELECT ProductID, SUM(SaleAmount) AS TotalSales\n",
        "  FROM Sales\n",
        "  GROUP BY ProductID\n",
        ")\n",
        "SELECT ProductID, TotalSales\n",
        "FROM TotalSales\n",
        "ORDER BY TotalSales DESC\n",
        "LIMIT 3;\n",
        "\"\"\"\n",
        "\n",
        "task_3 = pd.read_sql_query(task_3_querry, conn)\n",
        "task_3"
      ],
      "metadata": {
        "id": "S2rssWyNhQ1I"
      },
      "execution_count": null,
      "outputs": []
    },
    {
      "cell_type": "code",
      "source": [
        "task_4_querry = \"\"\"\n",
        "select productid, saleamount, saledate, sum(saleamount) over (partition by productid order by saledate) as runningtotal\n",
        "from sales;\n",
        "\"\"\"\n",
        "\n",
        "task_4 = pd.read_sql_query(task_4_querry, conn)\n",
        "task_4"
      ],
      "metadata": {
        "id": "xgSRyoLZhnjR"
      },
      "execution_count": null,
      "outputs": []
    },
    {
      "cell_type": "code",
      "source": [
        "conn.close"
      ],
      "metadata": {
        "id": "0G_I9h_wiuDm"
      },
      "execution_count": null,
      "outputs": []
    }
  ]
}