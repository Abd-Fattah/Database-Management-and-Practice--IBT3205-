{
  "nbformat": 4,
  "nbformat_minor": 0,
  "metadata": {
    "colab": {
      "provenance": [],
      "authorship_tag": "ABX9TyNkAofG36XItmOvXg6kmlzy",
      "include_colab_link": true
    },
    "kernelspec": {
      "name": "python3",
      "display_name": "Python 3"
    },
    "language_info": {
      "name": "python"
    }
  },
  "cells": [
    {
      "cell_type": "markdown",
      "metadata": {
        "id": "view-in-github",
        "colab_type": "text"
      },
      "source": [
        "<a href=\"https://colab.research.google.com/github/Abd-Fattah/Database-Management-and-Practice--IBT3205-/blob/main/Lab%236.ipynb\" target=\"_parent\"><img src=\"https://colab.research.google.com/assets/colab-badge.svg\" alt=\"Open In Colab\"/></a>"
      ]
    },
    {
      "cell_type": "code",
      "execution_count": 30,
      "metadata": {
        "id": "ElzkJezKbiNA"
      },
      "outputs": [],
      "source": [
        "import sqlite3\n",
        "from employee import Employee\n",
        "import pandas as pd"
      ]
    },
    {
      "cell_type": "code",
      "source": [
        "conn = sqlite3.connect(':memory:')\n",
        "\n",
        "c = conn.cursor()\n",
        "\n",
        "c.execute(\"\"\"\n",
        "CREATE TABLE employees (\n",
        "    first text,\n",
        "    last text,\n",
        "    pay integer\n",
        ")\n",
        "\"\"\")"
      ],
      "metadata": {
        "id": "Wavg0WTCcF8A"
      },
      "execution_count": null,
      "outputs": []
    },
    {
      "cell_type": "code",
      "source": [
        "def insert_emp(emp):\n",
        "  with conn:\n",
        "    c.execute(\"insert into employees values (:first, :last, :pay)\", {'first': emp.first, 'last': emp.last, 'pay': emp.pay})\n",
        "\n",
        "def get_emps_by_name(lastname):\n",
        "  c.execute(\"select * from employees where last=:last\", {'last': lastname})\n",
        "  return c.fetchall()\n",
        "\n",
        "def get_all_emps():\n",
        "  c.execute(\"select * from employees\")\n",
        "  return c.fetchall()\n",
        "\n",
        "def delete_all_emps():\n",
        "  c.execute(\"delete from employees\")\n",
        "  return c.fetchall()\n",
        "\n",
        "def update_pay(emp, pay):\n",
        "  with conn:\n",
        "    c.execute(\"\"\"update employees set pay = :pay\n",
        "    where first = :first and last = :last\"\"\",\n",
        "     {'first': emp.first, 'last': emp.last, 'pay': pay})\n",
        "\n",
        "def remove_emp(emp):\n",
        "  with conn:\n",
        "    c.execute(\"delete from employees where first = :first and last = :last\",\n",
        "     {'first': emp.first, 'last': emp.last})"
      ],
      "metadata": {
        "id": "D-plhlulcZOM"
      },
      "execution_count": 42,
      "outputs": []
    },
    {
      "cell_type": "code",
      "source": [
        "emp_1 = Employee('John', 'Doe', 80000)\n",
        "emp_2 = Employee('Jane', 'Doe', 90000)\n",
        "emp_3 = Employee('Jane', 'Lee', 190000)\n",
        "emp_4 = Employee('Yuna', 'Kim', 190000)"
      ],
      "metadata": {
        "id": "u74ygKfneBtt"
      },
      "execution_count": 44,
      "outputs": []
    },
    {
      "cell_type": "code",
      "source": [
        "insert_emp(emp_1)\n",
        "insert_emp(emp_2)\n",
        "insert_emp(emp_3)\n",
        "insert_emp(emp_4)\n",
        "\n",
        "employee_list = []\n",
        "\n",
        "employee_list.append(emp_1.last)\n",
        "employee_list.append(emp_2.last)\n",
        "employee_list.append(emp_3.last)\n",
        "employee_list.append(emp_4.last)\n",
        "\n",
        "for employee in employee_list:\n",
        "  print(get_emps_by_name(employee))\n",
        "\n",
        "emps = get_emps_by_name( 'Doe')\n",
        "print (emps)\n",
        "\n",
        "empsl = get_emps_by_name('Lee')\n",
        "print (empsl)\n",
        "\n",
        "update_pay(emp_2, 95000)\n",
        "\n",
        "remove_emp(emp_1)\n",
        "\n",
        "emps = get_emps_by_name( 'Doe')\n",
        "print (emps)\n",
        "\n",
        "all_emps = get_all_emps()\n",
        "print (all_emps)\n",
        "\n",
        "delete_all_emps()\n",
        "all_emps = get_all_emps()\n",
        "print(all_emps)\n",
        "\n",
        "conn.close()"
      ],
      "metadata": {
        "id": "JsT8jY8gdydb"
      },
      "execution_count": null,
      "outputs": []
    },
    {
      "cell_type": "code",
      "source": [
        "def execute_sql_from_file(database_name, sql_file_name):\n",
        "  try:\n",
        "    conn = sqlite3.connect(database_name)\n",
        "    cursor = conn.cursor()\n",
        "\n",
        "    with open(sql_file_name, 'r') as sql_file:\n",
        "      sql_script = sql_file.read()\n",
        "\n",
        "    cursor.executescript(sql_script)\n",
        "\n",
        "    conn.commit()\n",
        "    conn.close()\n",
        "\n",
        "  except sqlite3.Error as e:\n",
        "    print(f\"sqlite3 error: {e}\")\n",
        "  except FileNotFoundError as e:\n",
        "    print(f\"File not found error: {e}\")\n",
        "  except Exception as e:\n",
        "    print(f\"An error occurred: {e}\")\n",
        "  finally:\n",
        "    if conn:\n",
        "      conn.close()"
      ],
      "metadata": {
        "id": "Yt6QHeT9ffLe"
      },
      "execution_count": 23,
      "outputs": []
    },
    {
      "cell_type": "code",
      "source": [
        "database_name = \"students.db\"\n",
        "sql_file_name = \"student_tables.sql\"\n",
        "execute_sql_from_file(database_name, sql_file_name)"
      ],
      "metadata": {
        "id": "CQTT6Q3VgOIt"
      },
      "execution_count": null,
      "outputs": []
    },
    {
      "cell_type": "code",
      "source": [
        "database_name = \"students.db\"\n",
        "sql_file_name = \"student_insert.sql\"\n",
        "execute_sql_from_file(database_name, sql_file_name)"
      ],
      "metadata": {
        "id": "xTP31ojlgbLy"
      },
      "execution_count": null,
      "outputs": []
    },
    {
      "cell_type": "code",
      "source": [
        "conn = sqlite3.connect('students.db')\n",
        "c = conn.cursor()\n",
        "\n",
        "select = \"\"\"\n",
        "  Select * from student\n",
        "\"\"\"\n",
        "\n",
        "studentsdb_df = pd.read_sql_query(select, conn)\n",
        "studentsdb_df\n",
        "\n",
        "\n",
        "conn.close()"
      ],
      "metadata": {
        "id": "EnwC2HZ8ghVU"
      },
      "execution_count": 26,
      "outputs": []
    },
    {
      "cell_type": "code",
      "source": [
        "studentsdb_df"
      ],
      "metadata": {
        "id": "_wxvzJBEhK2H"
      },
      "execution_count": null,
      "outputs": []
    },
    {
      "cell_type": "code",
      "source": [
        "import sqlite3\n",
        "\n",
        "# Connect to SQLite database (or create it if it doesn't exist)\n",
        "conn = sqlite3.connect('contacts.db')\n",
        "\n",
        "# Cursor to execute SQL commands\n",
        "c = conn.cursor()\n",
        "\n",
        "# Create table if it doesn't already exist\n",
        "c.execute('''\n",
        "CREATE TABLE IF NOT EXISTS contacts (\n",
        "    id INTEGER PRIMARY KEY AUTOINCREMENT,\n",
        "    first_name TEXT NOT NULL,\n",
        "    last_name TEXT NOT NULL,\n",
        "    phone TEXT NOT NULL,\n",
        "    email TEXT\n",
        ")\n",
        "''')\n",
        "\n",
        "# Function to add a new contact\n",
        "def add_contact(first_name, last_name, phone, email=None):\n",
        "    with conn:\n",
        "        c.execute(\"INSERT INTO contacts (first_name, last_name, phone, email) VALUES (:first_name, :last_name, :phone, :email)\",\n",
        "                  {'first_name': first_name, 'last_name': last_name, 'phone': phone, 'email': email})\n",
        "        print(f\"Contact added: {first_name} {last_name}\")\n",
        "\n",
        "# Function to search for contacts by last name\n",
        "def search_contact(last_name):\n",
        "    c.execute(\"SELECT * FROM contacts WHERE last_name = :last_name\", {'last_name': last_name})\n",
        "    results = c.fetchall()\n",
        "    if results:\n",
        "        for contact in results:\n",
        "            print(contact)\n",
        "    else:\n",
        "        print(\"No contacts found.\")\n",
        "\n",
        "# Function to update contact details\n",
        "def update_contact(contact_id, first_name=None, last_name=None, phone=None, email=None):\n",
        "    with conn:\n",
        "        if first_name:\n",
        "            c.execute(\"UPDATE contacts SET first_name = :first_name WHERE id = :id\", {'first_name': first_name, 'id': contact_id})\n",
        "        if last_name:\n",
        "            c.execute(\"UPDATE contacts SET last_name = :last_name WHERE id = :id\", {'last_name': last_name, 'id': contact_id})\n",
        "        if phone:\n",
        "            c.execute(\"UPDATE contacts SET phone = :phone WHERE id = :id\", {'phone': phone, 'id': contact_id})\n",
        "        if email:\n",
        "            c.execute(\"UPDATE contacts SET email = :email WHERE id = :id\", {'email': email, 'id': contact_id})\n",
        "        print(f\"Contact with ID {contact_id} updated.\")\n",
        "\n",
        "# Function to delete a contact\n",
        "def delete_contact(contact_id):\n",
        "    with conn:\n",
        "        c.execute(\"DELETE FROM contacts WHERE id = :id\", {'id': contact_id})\n",
        "        print(f\"Contact with ID {contact_id} deleted.\")\n",
        "\n",
        "# Function to list all contacts\n",
        "def list_all_contacts():\n",
        "    c.execute(\"SELECT * FROM contacts\")\n",
        "    contacts = c.fetchall()\n",
        "    if contacts:\n",
        "        for contact in contacts:\n",
        "            print(contact)\n",
        "    else:\n",
        "        print(\"No contacts in the database.\")\n",
        "\n",
        "# Main program for demonstration\n",
        "if __name__ == '__main__':\n",
        "    while True:\n",
        "        print(\"\\nContact Management System\")\n",
        "        print(\"1. Add Contact\")\n",
        "        print(\"2. Search Contact\")\n",
        "        print(\"3. Update Contact\")\n",
        "        print(\"4. Delete Contact\")\n",
        "        print(\"5. List All Contacts\")\n",
        "        print(\"6. Exit\")\n",
        "\n",
        "        choice = input(\"Enter your choice: \")\n",
        "\n",
        "        if choice == '1':\n",
        "            first_name = input(\"Enter first name: \")\n",
        "            last_name = input(\"Enter last name: \")\n",
        "            phone = input(\"Enter phone number: \")\n",
        "            email = input(\"Enter email (optional): \")\n",
        "            add_contact(first_name, last_name, phone, email)\n",
        "        elif choice == '2':\n",
        "            last_name = input(\"Enter last name to search: \")\n",
        "            search_contact(last_name)\n",
        "        elif choice == '3':\n",
        "            contact_id = int(input(\"Enter contact ID to update: \"))\n",
        "            print(\"Leave fields blank to keep current value.\")\n",
        "            first_name = input(\"Enter new first name (or press Enter to skip): \") or None\n",
        "            last_name = input(\"Enter new last name (or press Enter to skip): \") or None\n",
        "            phone = input(\"Enter new phone number (or press Enter to skip): \") or None\n",
        "            email = input(\"Enter new email (or press Enter to skip): \") or None\n",
        "            update_contact(contact_id, first_name, last_name, phone, email)\n",
        "        elif choice == '4':\n",
        "            contact_id = int(input(\"Enter contact ID to delete: \"))\n",
        "            delete_contact(contact_id)\n",
        "        elif choice == '5':\n",
        "            list_all_contacts()\n",
        "        elif choice == '6':\n",
        "            print(\"Exiting the program.\")\n",
        "            break\n",
        "        else:\n",
        "            print(\"Invalid choice. Please try again.\")\n"
      ],
      "metadata": {
        "id": "6VvERzwNk7iY"
      },
      "execution_count": null,
      "outputs": []
    }
  ]
}